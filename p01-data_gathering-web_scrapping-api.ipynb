{
 "cells": [
  {
   "cell_type": "markdown",
   "metadata": {},
   "source": [
    "![Ironhack logo](https://i.imgur.com/1QgrNNw.png)"
   ]
  },
  {
   "cell_type": "markdown",
   "metadata": {},
   "source": [
    "<body>\n",
    "    <p style=\"font-size:28px;text-align:center\"><b>Project 03 - Part 01 | Web Scrapping & API</b></p>\n",
    "</body>"
   ]
  },
  {
   "cell_type": "markdown",
   "metadata": {},
   "source": [
    "# Introduction"
   ]
  },
  {
   "cell_type": "markdown",
   "metadata": {},
   "source": [
    "The objective of the first part of this project was collect data to answer a problem statement, practicing web scrapping and using API.\n",
    "\n",
    "---\n",
    "\n",
    "<body>\n",
    "    <p style=\"font-size:20px\"><b>Problem Statement</b></p>\n",
    "</body>\n",
    "\n",
    "_Do some TikTok viral songs have common characteristics?_\n",
    "\n",
    "---\n",
    "\n",
    "To answer this problem, 66 songs, which were obtained from the **PopSugar** website, were analyzed. The post that contained this list of songs was made in March 27th, 2020 by Hedy Phillips around the same time people started to quarantine, because of the COVIVD-19 pandemic, and they began to use the app more often to spend their time at home.\n",
    "\n",
    "The sources of information used to gather data were **Spotify** and **Chartmetric**.\n",
    "\n",
    "---\n",
    "\n",
    "Sources:\n",
    "- Website:\n",
    "  - PopSugar: https://www.popsugar.com/entertainment/popular-tiktok-songs-47289804?stream_view=1#photo-47289832\n",
    " \n",
    "- APIs\n",
    "  - Spotify API: https://developer.spotify.com/\n",
    "  - Spotipy (Spotify API wrapper for Python): https://spotipy.readthedocs.io/en/2.15.0/\n",
    "  - Chartmetric API: https://api.chartmetric.com/apidoc/"
   ]
  },
  {
   "cell_type": "markdown",
   "metadata": {},
   "source": [
    "# Setup"
   ]
  },
  {
   "cell_type": "markdown",
   "metadata": {},
   "source": [
    "## Import"
   ]
  },
  {
   "cell_type": "code",
   "execution_count": 1,
   "metadata": {
    "ExecuteTime": {
     "end_time": "2020-09-18T19:00:47.811142Z",
     "start_time": "2020-09-18T19:00:47.237689Z"
    }
   },
   "outputs": [],
   "source": [
    "import os\n",
    "import re\n",
    "import requests\n",
    "\n",
    "from ast import literal_eval\n",
    "from time import sleep\n",
    "\n",
    "import numpy as np\n",
    "import pandas as pd\n",
    "import spotipy\n",
    "\n",
    "from bs4 import BeautifulSoup\n",
    "from dotenv import load_dotenv, find_dotenv\n",
    "from spotipy.oauth2 import SpotifyClientCredentials, SpotifyOAuth\n",
    "from tqdm.auto import tqdm"
   ]
  },
  {
   "cell_type": "markdown",
   "metadata": {},
   "source": [
    "# Web Scrapping"
   ]
  },
  {
   "cell_type": "markdown",
   "metadata": {},
   "source": [
    "The web scrapping was necessary to collect the following data:\n",
    "\n",
    "<table>\n",
    "  <thead>\n",
    "    <tr>\n",
    "      <th>INFORMATION</th>\n",
    "      <th>SOURCE</th>\n",
    "    </tr>\n",
    "  </thead>\n",
    "  <tbody>\n",
    "    <tr>\n",
    "      <td>69 TikTok viral songs</td>\n",
    "      <td>PopSugar</td>\n",
    "    </tr>\n",
    "    <tr>\n",
    "      <td>Music genres</td>\n",
    "      <td>MusicBrainz</td>\n",
    "    </tr>\n",
    "  </tbody>\n",
    "</table>\n",
    "\n"
   ]
  },
  {
   "cell_type": "markdown",
   "metadata": {},
   "source": [
    "## List of viral songs on TikTok"
   ]
  },
  {
   "cell_type": "markdown",
   "metadata": {},
   "source": [
    "### Get response"
   ]
  },
  {
   "cell_type": "code",
   "execution_count": 2,
   "metadata": {
    "ExecuteTime": {
     "end_time": "2020-09-18T19:00:48.901027Z",
     "start_time": "2020-09-18T19:00:47.813115Z"
    }
   },
   "outputs": [
    {
     "data": {
      "text/plain": [
       "<Response [200]>"
      ]
     },
     "execution_count": 2,
     "metadata": {},
     "output_type": "execute_result"
    }
   ],
   "source": [
    "# Get response from the url and check it\n",
    "url = 'https://www.popsugar.com/entertainment/popular-tiktok-songs-47289804?stream_view=1#photo-47289832'\n",
    "response = requests.get(url)\n",
    "response"
   ]
  },
  {
   "cell_type": "markdown",
   "metadata": {},
   "source": [
    "### Data Collection"
   ]
  },
  {
   "cell_type": "code",
   "execution_count": 3,
   "metadata": {
    "ExecuteTime": {
     "end_time": "2020-09-18T19:00:48.967198Z",
     "start_time": "2020-09-18T19:00:48.902989Z"
    }
   },
   "outputs": [],
   "source": [
    "# Get the content in the url\n",
    "content_popsugar = BeautifulSoup(response.text)\n",
    "\n",
    "# Get the date the post was made\n",
    "popsugar_date = content_popsugar.find('time').text.replace('\\n', '').strip()\n",
    "\n",
    "# Get only the songs and artists\n",
    "popsugar_html = content_popsugar.find_all('span', attrs={'class': 'count-copy'})"
   ]
  },
  {
   "cell_type": "code",
   "execution_count": 4,
   "metadata": {
    "ExecuteTime": {
     "end_time": "2020-09-18T19:00:48.985088Z",
     "start_time": "2020-09-18T19:00:48.969176Z"
    }
   },
   "outputs": [
    {
     "data": {
      "text/html": [
       "<div>\n",
       "<style scoped>\n",
       "    .dataframe tbody tr th:only-of-type {\n",
       "        vertical-align: middle;\n",
       "    }\n",
       "\n",
       "    .dataframe tbody tr th {\n",
       "        vertical-align: top;\n",
       "    }\n",
       "\n",
       "    .dataframe thead th {\n",
       "        text-align: right;\n",
       "    }\n",
       "</style>\n",
       "<table border=\"1\" class=\"dataframe\">\n",
       "  <thead>\n",
       "    <tr style=\"text-align: right;\">\n",
       "      <th></th>\n",
       "      <th>song</th>\n",
       "      <th>artists</th>\n",
       "    </tr>\n",
       "  </thead>\n",
       "  <tbody>\n",
       "    <tr>\n",
       "      <th>0</th>\n",
       "      <td>Roxanne</td>\n",
       "      <td>Arizona Zervas</td>\n",
       "    </tr>\n",
       "    <tr>\n",
       "      <th>1</th>\n",
       "      <td>Say So</td>\n",
       "      <td>Doja Cat</td>\n",
       "    </tr>\n",
       "    <tr>\n",
       "      <th>2</th>\n",
       "      <td>My Oh My</td>\n",
       "      <td>Camila Cabello feat. DaBaby</td>\n",
       "    </tr>\n",
       "    <tr>\n",
       "      <th>3</th>\n",
       "      <td>Moon</td>\n",
       "      <td>Kid Francescoli</td>\n",
       "    </tr>\n",
       "    <tr>\n",
       "      <th>4</th>\n",
       "      <td>Vibe</td>\n",
       "      <td>Cookiee Kawaii</td>\n",
       "    </tr>\n",
       "    <tr>\n",
       "      <th>...</th>\n",
       "      <td>...</td>\n",
       "      <td>...</td>\n",
       "    </tr>\n",
       "    <tr>\n",
       "      <th>64</th>\n",
       "      <td>What the Hell</td>\n",
       "      <td>Avril Lavigne</td>\n",
       "    </tr>\n",
       "    <tr>\n",
       "      <th>65</th>\n",
       "      <td>Towards the Sun</td>\n",
       "      <td>Rihanna</td>\n",
       "    </tr>\n",
       "    <tr>\n",
       "      <th>66</th>\n",
       "      <td>I Think I'm OKAY</td>\n",
       "      <td>Machine Gun Kelly, YUNGBLUD, and Travis Barker</td>\n",
       "    </tr>\n",
       "    <tr>\n",
       "      <th>67</th>\n",
       "      <td>Myself</td>\n",
       "      <td>Bazzi</td>\n",
       "    </tr>\n",
       "    <tr>\n",
       "      <th>68</th>\n",
       "      <td>Stronger</td>\n",
       "      <td>Kanye West</td>\n",
       "    </tr>\n",
       "  </tbody>\n",
       "</table>\n",
       "<p>69 rows × 2 columns</p>\n",
       "</div>"
      ],
      "text/plain": [
       "                song                                         artists\n",
       "0            Roxanne                                  Arizona Zervas\n",
       "1             Say So                                        Doja Cat\n",
       "2           My Oh My                     Camila Cabello feat. DaBaby\n",
       "3               Moon                                 Kid Francescoli\n",
       "4               Vibe                                  Cookiee Kawaii\n",
       "..               ...                                             ...\n",
       "64     What the Hell                                   Avril Lavigne\n",
       "65   Towards the Sun                                         Rihanna\n",
       "66  I Think I'm OKAY  Machine Gun Kelly, YUNGBLUD, and Travis Barker\n",
       "67            Myself                                           Bazzi\n",
       "68          Stronger                                      Kanye West\n",
       "\n",
       "[69 rows x 2 columns]"
      ]
     },
     "execution_count": 4,
     "metadata": {},
     "output_type": "execute_result"
    }
   ],
   "source": [
    "# Conver the list 'html_popsugar' to a Pandas DataFrame\n",
    "df_base = pd.DataFrame([re.split(' by ', song.text.replace('\"', '').strip()) for song in popsugar_html], \n",
    "                       columns=['song', 'artists'])\n",
    "\n",
    "# Check the result\n",
    "df_base"
   ]
  },
  {
   "cell_type": "markdown",
   "metadata": {},
   "source": [
    "### Data Cleaning"
   ]
  },
  {
   "cell_type": "code",
   "execution_count": 5,
   "metadata": {
    "ExecuteTime": {
     "end_time": "2020-09-18T19:00:48.993119Z",
     "start_time": "2020-09-18T19:00:48.987083Z"
    }
   },
   "outputs": [],
   "source": [
    "# Create a column with a list of artists for each song\n",
    "df_base['artists_list'] = [re.split(',* and |, * | [Ff]eat. ', artists.strip()) for artists in df_base.artists]\n",
    "\n",
    "# Create a column with the number of artists for each song\n",
    "df_base['number_artists'] = df_base.artists_list.apply(len)"
   ]
  },
  {
   "cell_type": "code",
   "execution_count": 6,
   "metadata": {
    "ExecuteTime": {
     "end_time": "2020-09-18T19:00:49.002043Z",
     "start_time": "2020-09-18T19:00:48.995062Z"
    },
    "scrolled": true
   },
   "outputs": [
    {
     "data": {
      "text/plain": [
       "1    48\n",
       "2    18\n",
       "3     3\n",
       "Name: number_artists, dtype: int64"
      ]
     },
     "execution_count": 6,
     "metadata": {},
     "output_type": "execute_result"
    }
   ],
   "source": [
    "# Check possible number of artists for one song\n",
    "df_base.number_artists.value_counts()"
   ]
  },
  {
   "cell_type": "markdown",
   "metadata": {},
   "source": [
    "Seeing the result above, the maximum number of artists for a song is 3."
   ]
  },
  {
   "cell_type": "code",
   "execution_count": 7,
   "metadata": {
    "ExecuteTime": {
     "end_time": "2020-09-18T19:00:49.011052Z",
     "start_time": "2020-09-18T19:00:49.003039Z"
    }
   },
   "outputs": [
    {
     "data": {
      "text/html": [
       "<div>\n",
       "<style scoped>\n",
       "    .dataframe tbody tr th:only-of-type {\n",
       "        vertical-align: middle;\n",
       "    }\n",
       "\n",
       "    .dataframe tbody tr th {\n",
       "        vertical-align: top;\n",
       "    }\n",
       "\n",
       "    .dataframe thead th {\n",
       "        text-align: right;\n",
       "    }\n",
       "</style>\n",
       "<table border=\"1\" class=\"dataframe\">\n",
       "  <thead>\n",
       "    <tr style=\"text-align: right;\">\n",
       "      <th></th>\n",
       "      <th>song</th>\n",
       "      <th>artists</th>\n",
       "      <th>artists_list</th>\n",
       "      <th>number_artists</th>\n",
       "    </tr>\n",
       "  </thead>\n",
       "  <tbody>\n",
       "    <tr>\n",
       "      <th>0</th>\n",
       "      <td>Roxanne</td>\n",
       "      <td>Arizona Zervas</td>\n",
       "      <td>[Arizona Zervas]</td>\n",
       "      <td>1</td>\n",
       "    </tr>\n",
       "    <tr>\n",
       "      <th>1</th>\n",
       "      <td>Say So</td>\n",
       "      <td>Doja Cat</td>\n",
       "      <td>[Doja Cat]</td>\n",
       "      <td>1</td>\n",
       "    </tr>\n",
       "    <tr>\n",
       "      <th>2</th>\n",
       "      <td>My Oh My</td>\n",
       "      <td>Camila Cabello feat. DaBaby</td>\n",
       "      <td>[Camila Cabello, DaBaby]</td>\n",
       "      <td>2</td>\n",
       "    </tr>\n",
       "    <tr>\n",
       "      <th>3</th>\n",
       "      <td>Moon</td>\n",
       "      <td>Kid Francescoli</td>\n",
       "      <td>[Kid Francescoli]</td>\n",
       "      <td>1</td>\n",
       "    </tr>\n",
       "    <tr>\n",
       "      <th>4</th>\n",
       "      <td>Vibe</td>\n",
       "      <td>Cookiee Kawaii</td>\n",
       "      <td>[Cookiee Kawaii]</td>\n",
       "      <td>1</td>\n",
       "    </tr>\n",
       "  </tbody>\n",
       "</table>\n",
       "</div>"
      ],
      "text/plain": [
       "       song                      artists              artists_list  \\\n",
       "0   Roxanne               Arizona Zervas          [Arizona Zervas]   \n",
       "1    Say So                     Doja Cat                [Doja Cat]   \n",
       "2  My Oh My  Camila Cabello feat. DaBaby  [Camila Cabello, DaBaby]   \n",
       "3      Moon              Kid Francescoli         [Kid Francescoli]   \n",
       "4      Vibe               Cookiee Kawaii          [Cookiee Kawaii]   \n",
       "\n",
       "   number_artists  \n",
       "0               1  \n",
       "1               1  \n",
       "2               2  \n",
       "3               1  \n",
       "4               1  "
      ]
     },
     "execution_count": 7,
     "metadata": {},
     "output_type": "execute_result"
    }
   ],
   "source": [
    "# Check the dataframe\n",
    "df_base.head()"
   ]
  },
  {
   "cell_type": "markdown",
   "metadata": {},
   "source": [
    "### Make backup dataframe"
   ]
  },
  {
   "cell_type": "code",
   "execution_count": 8,
   "metadata": {
    "ExecuteTime": {
     "end_time": "2020-09-18T19:00:49.015007Z",
     "start_time": "2020-09-18T19:00:49.012015Z"
    }
   },
   "outputs": [],
   "source": [
    "df_base_raw_bck = df_base.copy()"
   ]
  },
  {
   "cell_type": "markdown",
   "metadata": {
    "cell_style": "split"
   },
   "source": [
    "# Spotify"
   ]
  },
  {
   "cell_type": "markdown",
   "metadata": {},
   "source": [
    "From the Spotify and with the Spotipy's help, some data about each song will be gathered. It is relevant to point that there is a possibility that some songs may not be in the Spotify's library."
   ]
  },
  {
   "cell_type": "code",
   "execution_count": 9,
   "metadata": {
    "ExecuteTime": {
     "end_time": "2020-09-18T19:00:49.024981Z",
     "start_time": "2020-09-18T19:00:49.016004Z"
    }
   },
   "outputs": [
    {
     "data": {
      "text/html": [
       "<div>\n",
       "<style scoped>\n",
       "    .dataframe tbody tr th:only-of-type {\n",
       "        vertical-align: middle;\n",
       "    }\n",
       "\n",
       "    .dataframe tbody tr th {\n",
       "        vertical-align: top;\n",
       "    }\n",
       "\n",
       "    .dataframe thead th {\n",
       "        text-align: right;\n",
       "    }\n",
       "</style>\n",
       "<table border=\"1\" class=\"dataframe\">\n",
       "  <thead>\n",
       "    <tr style=\"text-align: right;\">\n",
       "      <th></th>\n",
       "      <th>song</th>\n",
       "      <th>artists</th>\n",
       "      <th>artists_list</th>\n",
       "      <th>number_artists</th>\n",
       "    </tr>\n",
       "  </thead>\n",
       "  <tbody>\n",
       "    <tr>\n",
       "      <th>0</th>\n",
       "      <td>Roxanne</td>\n",
       "      <td>Arizona Zervas</td>\n",
       "      <td>[Arizona Zervas]</td>\n",
       "      <td>1</td>\n",
       "    </tr>\n",
       "    <tr>\n",
       "      <th>1</th>\n",
       "      <td>Say So</td>\n",
       "      <td>Doja Cat</td>\n",
       "      <td>[Doja Cat]</td>\n",
       "      <td>1</td>\n",
       "    </tr>\n",
       "    <tr>\n",
       "      <th>2</th>\n",
       "      <td>My Oh My</td>\n",
       "      <td>Camila Cabello feat. DaBaby</td>\n",
       "      <td>[Camila Cabello, DaBaby]</td>\n",
       "      <td>2</td>\n",
       "    </tr>\n",
       "    <tr>\n",
       "      <th>3</th>\n",
       "      <td>Moon</td>\n",
       "      <td>Kid Francescoli</td>\n",
       "      <td>[Kid Francescoli]</td>\n",
       "      <td>1</td>\n",
       "    </tr>\n",
       "    <tr>\n",
       "      <th>4</th>\n",
       "      <td>Vibe</td>\n",
       "      <td>Cookiee Kawaii</td>\n",
       "      <td>[Cookiee Kawaii]</td>\n",
       "      <td>1</td>\n",
       "    </tr>\n",
       "  </tbody>\n",
       "</table>\n",
       "</div>"
      ],
      "text/plain": [
       "       song                      artists              artists_list  \\\n",
       "0   Roxanne               Arizona Zervas          [Arizona Zervas]   \n",
       "1    Say So                     Doja Cat                [Doja Cat]   \n",
       "2  My Oh My  Camila Cabello feat. DaBaby  [Camila Cabello, DaBaby]   \n",
       "3      Moon              Kid Francescoli         [Kid Francescoli]   \n",
       "4      Vibe               Cookiee Kawaii          [Cookiee Kawaii]   \n",
       "\n",
       "   number_artists  \n",
       "0               1  \n",
       "1               1  \n",
       "2               2  \n",
       "3               1  \n",
       "4               1  "
      ]
     },
     "execution_count": 9,
     "metadata": {},
     "output_type": "execute_result"
    }
   ],
   "source": [
    "# Create a copy of the dataframe\n",
    "df_sp = df_base.copy()\n",
    "\n",
    "# Check the result\n",
    "df_sp.head()"
   ]
  },
  {
   "cell_type": "markdown",
   "metadata": {},
   "source": [
    "## Connecting to the API"
   ]
  },
  {
   "cell_type": "code",
   "execution_count": 10,
   "metadata": {
    "ExecuteTime": {
     "end_time": "2020-09-18T19:00:49.032993Z",
     "start_time": "2020-09-18T19:00:49.026001Z"
    }
   },
   "outputs": [
    {
     "data": {
      "text/plain": [
       "True"
      ]
     },
     "execution_count": 10,
     "metadata": {},
     "output_type": "execute_result"
    }
   ],
   "source": [
    "load_dotenv(find_dotenv())"
   ]
  },
  {
   "cell_type": "code",
   "execution_count": 11,
   "metadata": {
    "ExecuteTime": {
     "end_time": "2020-09-18T19:00:49.038945Z",
     "start_time": "2020-09-18T19:00:49.033957Z"
    }
   },
   "outputs": [],
   "source": [
    "cid = os.getenv('spotify_p03_key')\n",
    "csecret = os.getenv('spotify_p03_secret')\n",
    "cc_manager = SpotifyClientCredentials(client_id=cid, client_secret=csecret)\n",
    "sp = spotipy.Spotify(client_credentials_manager=cc_manager)"
   ]
  },
  {
   "cell_type": "markdown",
   "metadata": {},
   "source": [
    "## Songs"
   ]
  },
  {
   "cell_type": "markdown",
   "metadata": {},
   "source": [
    "### Search information about each song"
   ]
  },
  {
   "cell_type": "code",
   "execution_count": 12,
   "metadata": {
    "ExecuteTime": {
     "end_time": "2020-09-18T19:01:06.601217Z",
     "start_time": "2020-09-18T19:00:49.040941Z"
    }
   },
   "outputs": [
    {
     "data": {
      "application/vnd.jupyter.widget-view+json": {
       "model_id": "2cb41602c2b141b9bd5f42f1b7da7520",
       "version_major": 2,
       "version_minor": 0
      },
      "text/plain": [
       "HBox(children=(FloatProgress(value=0.0, max=69.0), HTML(value='')))"
      ]
     },
     "metadata": {},
     "output_type": "display_data"
    },
    {
     "name": "stdout",
     "output_type": "stream",
     "text": [
      "\n"
     ]
    }
   ],
   "source": [
    "# Search information about each song, using the Spotipy\n",
    "spotify_songs = [sp.search(q=df_base.iloc[index, 0], type='track', limit=50) for index in tqdm(df_base.index)]"
   ]
  },
  {
   "cell_type": "code",
   "execution_count": 13,
   "metadata": {
    "ExecuteTime": {
     "end_time": "2020-09-18T19:01:06.609223Z",
     "start_time": "2020-09-18T19:01:06.605161Z"
    }
   },
   "outputs": [
    {
     "data": {
      "text/plain": [
       "69"
      ]
     },
     "execution_count": 13,
     "metadata": {},
     "output_type": "execute_result"
    }
   ],
   "source": [
    "# Check if there are 69 items in this list\n",
    "len(spotify_songs)"
   ]
  },
  {
   "cell_type": "code",
   "execution_count": 14,
   "metadata": {
    "ExecuteTime": {
     "end_time": "2020-09-18T19:01:06.615134Z",
     "start_time": "2020-09-18T19:01:06.610148Z"
    }
   },
   "outputs": [],
   "source": [
    "# Add a column in the dataframe with the data that were just collected\n",
    "df_sp['spotify_search'] = spotify_songs"
   ]
  },
  {
   "cell_type": "code",
   "execution_count": 15,
   "metadata": {
    "ExecuteTime": {
     "end_time": "2020-09-18T19:01:06.649044Z",
     "start_time": "2020-09-18T19:01:06.616131Z"
    }
   },
   "outputs": [
    {
     "data": {
      "text/html": [
       "<div>\n",
       "<style scoped>\n",
       "    .dataframe tbody tr th:only-of-type {\n",
       "        vertical-align: middle;\n",
       "    }\n",
       "\n",
       "    .dataframe tbody tr th {\n",
       "        vertical-align: top;\n",
       "    }\n",
       "\n",
       "    .dataframe thead th {\n",
       "        text-align: right;\n",
       "    }\n",
       "</style>\n",
       "<table border=\"1\" class=\"dataframe\">\n",
       "  <thead>\n",
       "    <tr style=\"text-align: right;\">\n",
       "      <th></th>\n",
       "      <th>song</th>\n",
       "      <th>artists</th>\n",
       "      <th>artists_list</th>\n",
       "      <th>number_artists</th>\n",
       "      <th>spotify_search</th>\n",
       "    </tr>\n",
       "  </thead>\n",
       "  <tbody>\n",
       "    <tr>\n",
       "      <th>0</th>\n",
       "      <td>Roxanne</td>\n",
       "      <td>Arizona Zervas</td>\n",
       "      <td>[Arizona Zervas]</td>\n",
       "      <td>1</td>\n",
       "      <td>{'tracks': {'href': 'https://api.spotify.com/v...</td>\n",
       "    </tr>\n",
       "    <tr>\n",
       "      <th>1</th>\n",
       "      <td>Say So</td>\n",
       "      <td>Doja Cat</td>\n",
       "      <td>[Doja Cat]</td>\n",
       "      <td>1</td>\n",
       "      <td>{'tracks': {'href': 'https://api.spotify.com/v...</td>\n",
       "    </tr>\n",
       "    <tr>\n",
       "      <th>2</th>\n",
       "      <td>My Oh My</td>\n",
       "      <td>Camila Cabello feat. DaBaby</td>\n",
       "      <td>[Camila Cabello, DaBaby]</td>\n",
       "      <td>2</td>\n",
       "      <td>{'tracks': {'href': 'https://api.spotify.com/v...</td>\n",
       "    </tr>\n",
       "    <tr>\n",
       "      <th>3</th>\n",
       "      <td>Moon</td>\n",
       "      <td>Kid Francescoli</td>\n",
       "      <td>[Kid Francescoli]</td>\n",
       "      <td>1</td>\n",
       "      <td>{'tracks': {'href': 'https://api.spotify.com/v...</td>\n",
       "    </tr>\n",
       "    <tr>\n",
       "      <th>4</th>\n",
       "      <td>Vibe</td>\n",
       "      <td>Cookiee Kawaii</td>\n",
       "      <td>[Cookiee Kawaii]</td>\n",
       "      <td>1</td>\n",
       "      <td>{'tracks': {'href': 'https://api.spotify.com/v...</td>\n",
       "    </tr>\n",
       "  </tbody>\n",
       "</table>\n",
       "</div>"
      ],
      "text/plain": [
       "       song                      artists              artists_list  \\\n",
       "0   Roxanne               Arizona Zervas          [Arizona Zervas]   \n",
       "1    Say So                     Doja Cat                [Doja Cat]   \n",
       "2  My Oh My  Camila Cabello feat. DaBaby  [Camila Cabello, DaBaby]   \n",
       "3      Moon              Kid Francescoli         [Kid Francescoli]   \n",
       "4      Vibe               Cookiee Kawaii          [Cookiee Kawaii]   \n",
       "\n",
       "   number_artists                                     spotify_search  \n",
       "0               1  {'tracks': {'href': 'https://api.spotify.com/v...  \n",
       "1               1  {'tracks': {'href': 'https://api.spotify.com/v...  \n",
       "2               2  {'tracks': {'href': 'https://api.spotify.com/v...  \n",
       "3               1  {'tracks': {'href': 'https://api.spotify.com/v...  \n",
       "4               1  {'tracks': {'href': 'https://api.spotify.com/v...  "
      ]
     },
     "execution_count": 15,
     "metadata": {},
     "output_type": "execute_result"
    }
   ],
   "source": [
    "# Check the result\n",
    "df_sp.head()"
   ]
  },
  {
   "cell_type": "code",
   "execution_count": 16,
   "metadata": {
    "ExecuteTime": {
     "end_time": "2020-09-18T19:01:06.665002Z",
     "start_time": "2020-09-18T19:01:06.650042Z"
    }
   },
   "outputs": [],
   "source": [
    "# Function to add new information in a copy of the dataframe\n",
    "def get_spotify_track_info(df):\n",
    "    \n",
    "    '''\n",
    "    Filters some data of the songs and adds them to a copy of the dataframe\n",
    "    \n",
    "    Args:\n",
    "    -----\n",
    "        df (Pandas DataFrame): a dataframe containing the songs and their artists\n",
    "    \n",
    "    Returns:\n",
    "    --------\n",
    "        df_copy (Pandas DataFrame): a copy of the dataframe with some new information appended\n",
    "    '''\n",
    "    \n",
    "    # Create auxiliary empty lists (final lists)\n",
    "    list_spotify_track_name = []\n",
    "    list_spotify_track_id = []\n",
    "    list_spotify_track_duration = []\n",
    "    list_spotify_track_popularity = []\n",
    "    list_spotify_album_release_date = []\n",
    "    list_spotify_track_explicit = []\n",
    "    list_spotify_track_artists = []\n",
    "    lists_spotify = [list_spotify_track_name, list_spotify_track_id, list_spotify_track_duration, \n",
    "                     list_spotify_track_popularity, list_spotify_album_release_date, list_spotify_track_explicit,\n",
    "                     list_spotify_track_artists]\n",
    "    \n",
    "    \n",
    "    # Check for each row of the dataframe\n",
    "    for index in df.index:\n",
    "        \n",
    "        # Information necessary from the dataframe to use during the process\n",
    "        song_name = df.iloc[index, 0][:3].lower()\n",
    "        artists_list = [artist.lower() for artist in df.iloc[index, 2]]\n",
    "        total_artists = df.iloc[index, 3]\n",
    "        mask = df.iloc[index, 4]['tracks']['items']\n",
    "        \n",
    "        # If the track was not found in the Spotify library, a 'not-found' string is added to the final lists\n",
    "        if len(mask) == 0:\n",
    "            for lst in lists_spotify:\n",
    "                lst.append('not-found')\n",
    "            #print(f'{index} - {song_name} - NOT FOUND')\n",
    "        \n",
    "        # If the track was found in the Spotify\n",
    "        else:\n",
    "            \n",
    "            # Variable necessary to check if the information about a song has been added to the final lists\n",
    "            added = 0\n",
    "            \n",
    "            # For each track it was listed 50 tracks related to the query \n",
    "            for idx, each_found in enumerate(mask):\n",
    "                \n",
    "                if mask[idx] == None:\n",
    "                    pass\n",
    "                \n",
    "                else:\n",
    "                \n",
    "                    # Information necessary from the Spotify API to use during the process\n",
    "                    track_name = mask[idx]['name'].lower()\n",
    "                    track_name_normal = mask[idx]['name']\n",
    "                    track_id = mask[idx]['id']\n",
    "                    track_duration = mask[idx]['duration_ms']\n",
    "                    track_popularity = mask[idx]['popularity']\n",
    "                    album_release_date = mask[idx]['album']['release_date']\n",
    "                    track_explicit = mask[idx]['explicit']\n",
    "                    n_artists = len(mask[idx]['artists'])\n",
    "                    first_artist_name = mask[idx]['artists'][0]['name'].lower()\n",
    "                    artists_names = [each_artist['name'] for each_artist in mask[idx]['artists']]\n",
    "\n",
    "                    # Check if the name of the song, the artists from both sources match and if an information about the\n",
    "                    # song has been added to the final lists \n",
    "                    if ((song_name in track_name) & (total_artists == n_artists) & \n",
    "                        ((first_artist_name in artists_list) | (artists_list[0][:5] in first_artist_name)) & (added == 0)):\n",
    "                        list_spotify_track_name.append(track_name_normal)\n",
    "                        list_spotify_track_id.append(track_id)\n",
    "                        list_spotify_track_duration.append(track_duration)\n",
    "                        list_spotify_track_popularity.append(track_popularity)\n",
    "                        list_spotify_album_release_date.append(album_release_date)\n",
    "                        list_spotify_track_explicit.append(track_explicit)\n",
    "                        list_spotify_track_artists.append(artists_names)\n",
    "                        added += 1\n",
    "                        #print(f'{index} - {track_name} - {track_id}')\n",
    "\n",
    "\n",
    "                    # If the track found in the search is not a math, itis the last one and information about the track \n",
    "                    # has not been added to the final list, then add a 'not-found' string to the final lists\n",
    "                    elif (idx == len(mask) - 1) & (added == 0):\n",
    "                        for lst in lists_spotify:\n",
    "                            lst.append('not-found')\n",
    "                        #print(f'{index} - {song_name} - NOT FOUND')\n",
    "    \n",
    "    # Make a copy of the dataframe\n",
    "    df_copy = df.copy()\n",
    "    \n",
    "    # Add columns with the desired information\n",
    "    # Not an inplace process\n",
    "    df_copy['sp_name'] = list_spotify_track_name\n",
    "    df_copy['sp_id'] = list_spotify_track_id\n",
    "    df_copy['sp_duration_ms'] = list_spotify_track_duration\n",
    "    df_copy['sp_popularity'] = list_spotify_track_popularity\n",
    "    df_copy['sp_release_date'] = list_spotify_album_release_date\n",
    "    df_copy['sp_explicit'] = list_spotify_track_explicit\n",
    "    df_copy['sp_artists_name'] = list_spotify_track_artists\n",
    "                    \n",
    "    return df_copy"
   ]
  },
  {
   "cell_type": "code",
   "execution_count": 17,
   "metadata": {
    "ExecuteTime": {
     "end_time": "2020-09-18T19:01:06.764745Z",
     "start_time": "2020-09-18T19:01:06.665999Z"
    }
   },
   "outputs": [
    {
     "data": {
      "text/html": [
       "<div>\n",
       "<style scoped>\n",
       "    .dataframe tbody tr th:only-of-type {\n",
       "        vertical-align: middle;\n",
       "    }\n",
       "\n",
       "    .dataframe tbody tr th {\n",
       "        vertical-align: top;\n",
       "    }\n",
       "\n",
       "    .dataframe thead th {\n",
       "        text-align: right;\n",
       "    }\n",
       "</style>\n",
       "<table border=\"1\" class=\"dataframe\">\n",
       "  <thead>\n",
       "    <tr style=\"text-align: right;\">\n",
       "      <th></th>\n",
       "      <th>song</th>\n",
       "      <th>artists</th>\n",
       "      <th>artists_list</th>\n",
       "      <th>number_artists</th>\n",
       "      <th>spotify_search</th>\n",
       "      <th>sp_name</th>\n",
       "      <th>sp_id</th>\n",
       "      <th>sp_duration_ms</th>\n",
       "      <th>sp_popularity</th>\n",
       "      <th>sp_release_date</th>\n",
       "      <th>sp_explicit</th>\n",
       "      <th>sp_artists_name</th>\n",
       "    </tr>\n",
       "  </thead>\n",
       "  <tbody>\n",
       "    <tr>\n",
       "      <th>0</th>\n",
       "      <td>Roxanne</td>\n",
       "      <td>Arizona Zervas</td>\n",
       "      <td>[Arizona Zervas]</td>\n",
       "      <td>1</td>\n",
       "      <td>{'tracks': {'href': 'https://api.spotify.com/v...</td>\n",
       "      <td>ROXANNE</td>\n",
       "      <td>696DnlkuDOXcMAnKlTgXXK</td>\n",
       "      <td>163636</td>\n",
       "      <td>88</td>\n",
       "      <td>2019-10-10</td>\n",
       "      <td>True</td>\n",
       "      <td>[Arizona Zervas]</td>\n",
       "    </tr>\n",
       "    <tr>\n",
       "      <th>1</th>\n",
       "      <td>Say So</td>\n",
       "      <td>Doja Cat</td>\n",
       "      <td>[Doja Cat]</td>\n",
       "      <td>1</td>\n",
       "      <td>{'tracks': {'href': 'https://api.spotify.com/v...</td>\n",
       "      <td>Say So</td>\n",
       "      <td>3Dv1eDb0MEgF93GpLXlucZ</td>\n",
       "      <td>237893</td>\n",
       "      <td>88</td>\n",
       "      <td>2019-11-07</td>\n",
       "      <td>True</td>\n",
       "      <td>[Doja Cat]</td>\n",
       "    </tr>\n",
       "    <tr>\n",
       "      <th>2</th>\n",
       "      <td>My Oh My</td>\n",
       "      <td>Camila Cabello feat. DaBaby</td>\n",
       "      <td>[Camila Cabello, DaBaby]</td>\n",
       "      <td>2</td>\n",
       "      <td>{'tracks': {'href': 'https://api.spotify.com/v...</td>\n",
       "      <td>My Oh My (feat. DaBaby)</td>\n",
       "      <td>3yOlyBJuViE2YSGn3nVE1K</td>\n",
       "      <td>170746</td>\n",
       "      <td>82</td>\n",
       "      <td>2019-12-06</td>\n",
       "      <td>False</td>\n",
       "      <td>[Camila Cabello, DaBaby]</td>\n",
       "    </tr>\n",
       "    <tr>\n",
       "      <th>3</th>\n",
       "      <td>Moon</td>\n",
       "      <td>Kid Francescoli</td>\n",
       "      <td>[Kid Francescoli]</td>\n",
       "      <td>1</td>\n",
       "      <td>{'tracks': {'href': 'https://api.spotify.com/v...</td>\n",
       "      <td>Moon (And It Went Like)</td>\n",
       "      <td>24upABZ8A0sAepfu91sEYr</td>\n",
       "      <td>390638</td>\n",
       "      <td>70</td>\n",
       "      <td>2017-03-03</td>\n",
       "      <td>False</td>\n",
       "      <td>[Kid Francescoli]</td>\n",
       "    </tr>\n",
       "    <tr>\n",
       "      <th>4</th>\n",
       "      <td>Vibe</td>\n",
       "      <td>Cookiee Kawaii</td>\n",
       "      <td>[Cookiee Kawaii]</td>\n",
       "      <td>1</td>\n",
       "      <td>{'tracks': {'href': 'https://api.spotify.com/v...</td>\n",
       "      <td>Vibe (If I Back It Up)</td>\n",
       "      <td>4gOgQTv9RYYFZ1uQNnlk3q</td>\n",
       "      <td>83940</td>\n",
       "      <td>72</td>\n",
       "      <td>2019-03-29</td>\n",
       "      <td>True</td>\n",
       "      <td>[Cookiee Kawaii]</td>\n",
       "    </tr>\n",
       "    <tr>\n",
       "      <th>...</th>\n",
       "      <td>...</td>\n",
       "      <td>...</td>\n",
       "      <td>...</td>\n",
       "      <td>...</td>\n",
       "      <td>...</td>\n",
       "      <td>...</td>\n",
       "      <td>...</td>\n",
       "      <td>...</td>\n",
       "      <td>...</td>\n",
       "      <td>...</td>\n",
       "      <td>...</td>\n",
       "      <td>...</td>\n",
       "    </tr>\n",
       "    <tr>\n",
       "      <th>64</th>\n",
       "      <td>What the Hell</td>\n",
       "      <td>Avril Lavigne</td>\n",
       "      <td>[Avril Lavigne]</td>\n",
       "      <td>1</td>\n",
       "      <td>{'tracks': {'href': 'https://api.spotify.com/v...</td>\n",
       "      <td>What the Hell</td>\n",
       "      <td>2z4U9d5OAA4YLNXoCgioxo</td>\n",
       "      <td>220706</td>\n",
       "      <td>74</td>\n",
       "      <td>2011-03-08</td>\n",
       "      <td>False</td>\n",
       "      <td>[Avril Lavigne]</td>\n",
       "    </tr>\n",
       "    <tr>\n",
       "      <th>65</th>\n",
       "      <td>Towards the Sun</td>\n",
       "      <td>Rihanna</td>\n",
       "      <td>[Rihanna]</td>\n",
       "      <td>1</td>\n",
       "      <td>{'tracks': {'href': 'https://api.spotify.com/v...</td>\n",
       "      <td>Towards The Sun - From The \"Home\" Soundtrack</td>\n",
       "      <td>1UuZhGTon3gzXQAJzNa2A4</td>\n",
       "      <td>273293</td>\n",
       "      <td>55</td>\n",
       "      <td>2015-03-23</td>\n",
       "      <td>False</td>\n",
       "      <td>[Rihanna]</td>\n",
       "    </tr>\n",
       "    <tr>\n",
       "      <th>66</th>\n",
       "      <td>I Think I'm OKAY</td>\n",
       "      <td>Machine Gun Kelly, YUNGBLUD, and Travis Barker</td>\n",
       "      <td>[Machine Gun Kelly, YUNGBLUD, Travis Barker]</td>\n",
       "      <td>3</td>\n",
       "      <td>{'tracks': {'href': 'https://api.spotify.com/v...</td>\n",
       "      <td>I Think I'm OKAY (with YUNGBLUD &amp; Travis Barker)</td>\n",
       "      <td>2gTdDMpNxIRFSiu7HutMCg</td>\n",
       "      <td>169397</td>\n",
       "      <td>81</td>\n",
       "      <td>2019-07-05</td>\n",
       "      <td>True</td>\n",
       "      <td>[Machine Gun Kelly, YUNGBLUD, Travis Barker]</td>\n",
       "    </tr>\n",
       "    <tr>\n",
       "      <th>67</th>\n",
       "      <td>Myself</td>\n",
       "      <td>Bazzi</td>\n",
       "      <td>[Bazzi]</td>\n",
       "      <td>1</td>\n",
       "      <td>{'tracks': {'href': 'https://api.spotify.com/v...</td>\n",
       "      <td>Myself</td>\n",
       "      <td>5YLHLxoZsodDWjqSgjhBf3</td>\n",
       "      <td>167552</td>\n",
       "      <td>76</td>\n",
       "      <td>2018-04-12</td>\n",
       "      <td>False</td>\n",
       "      <td>[Bazzi]</td>\n",
       "    </tr>\n",
       "    <tr>\n",
       "      <th>68</th>\n",
       "      <td>Stronger</td>\n",
       "      <td>Kanye West</td>\n",
       "      <td>[Kanye West]</td>\n",
       "      <td>1</td>\n",
       "      <td>{'tracks': {'href': 'https://api.spotify.com/v...</td>\n",
       "      <td>Stronger</td>\n",
       "      <td>4fzsfWzRhPawzqhX8Qt9F3</td>\n",
       "      <td>311866</td>\n",
       "      <td>80</td>\n",
       "      <td>2007-09-11</td>\n",
       "      <td>True</td>\n",
       "      <td>[Kanye West]</td>\n",
       "    </tr>\n",
       "  </tbody>\n",
       "</table>\n",
       "<p>69 rows × 12 columns</p>\n",
       "</div>"
      ],
      "text/plain": [
       "                song                                         artists  \\\n",
       "0            Roxanne                                  Arizona Zervas   \n",
       "1             Say So                                        Doja Cat   \n",
       "2           My Oh My                     Camila Cabello feat. DaBaby   \n",
       "3               Moon                                 Kid Francescoli   \n",
       "4               Vibe                                  Cookiee Kawaii   \n",
       "..               ...                                             ...   \n",
       "64     What the Hell                                   Avril Lavigne   \n",
       "65   Towards the Sun                                         Rihanna   \n",
       "66  I Think I'm OKAY  Machine Gun Kelly, YUNGBLUD, and Travis Barker   \n",
       "67            Myself                                           Bazzi   \n",
       "68          Stronger                                      Kanye West   \n",
       "\n",
       "                                    artists_list  number_artists  \\\n",
       "0                               [Arizona Zervas]               1   \n",
       "1                                     [Doja Cat]               1   \n",
       "2                       [Camila Cabello, DaBaby]               2   \n",
       "3                              [Kid Francescoli]               1   \n",
       "4                               [Cookiee Kawaii]               1   \n",
       "..                                           ...             ...   \n",
       "64                               [Avril Lavigne]               1   \n",
       "65                                     [Rihanna]               1   \n",
       "66  [Machine Gun Kelly, YUNGBLUD, Travis Barker]               3   \n",
       "67                                       [Bazzi]               1   \n",
       "68                                  [Kanye West]               1   \n",
       "\n",
       "                                       spotify_search  \\\n",
       "0   {'tracks': {'href': 'https://api.spotify.com/v...   \n",
       "1   {'tracks': {'href': 'https://api.spotify.com/v...   \n",
       "2   {'tracks': {'href': 'https://api.spotify.com/v...   \n",
       "3   {'tracks': {'href': 'https://api.spotify.com/v...   \n",
       "4   {'tracks': {'href': 'https://api.spotify.com/v...   \n",
       "..                                                ...   \n",
       "64  {'tracks': {'href': 'https://api.spotify.com/v...   \n",
       "65  {'tracks': {'href': 'https://api.spotify.com/v...   \n",
       "66  {'tracks': {'href': 'https://api.spotify.com/v...   \n",
       "67  {'tracks': {'href': 'https://api.spotify.com/v...   \n",
       "68  {'tracks': {'href': 'https://api.spotify.com/v...   \n",
       "\n",
       "                                             sp_name                   sp_id  \\\n",
       "0                                            ROXANNE  696DnlkuDOXcMAnKlTgXXK   \n",
       "1                                             Say So  3Dv1eDb0MEgF93GpLXlucZ   \n",
       "2                            My Oh My (feat. DaBaby)  3yOlyBJuViE2YSGn3nVE1K   \n",
       "3                            Moon (And It Went Like)  24upABZ8A0sAepfu91sEYr   \n",
       "4                             Vibe (If I Back It Up)  4gOgQTv9RYYFZ1uQNnlk3q   \n",
       "..                                               ...                     ...   \n",
       "64                                     What the Hell  2z4U9d5OAA4YLNXoCgioxo   \n",
       "65      Towards The Sun - From The \"Home\" Soundtrack  1UuZhGTon3gzXQAJzNa2A4   \n",
       "66  I Think I'm OKAY (with YUNGBLUD & Travis Barker)  2gTdDMpNxIRFSiu7HutMCg   \n",
       "67                                            Myself  5YLHLxoZsodDWjqSgjhBf3   \n",
       "68                                          Stronger  4fzsfWzRhPawzqhX8Qt9F3   \n",
       "\n",
       "   sp_duration_ms sp_popularity sp_release_date sp_explicit  \\\n",
       "0          163636            88      2019-10-10        True   \n",
       "1          237893            88      2019-11-07        True   \n",
       "2          170746            82      2019-12-06       False   \n",
       "3          390638            70      2017-03-03       False   \n",
       "4           83940            72      2019-03-29        True   \n",
       "..            ...           ...             ...         ...   \n",
       "64         220706            74      2011-03-08       False   \n",
       "65         273293            55      2015-03-23       False   \n",
       "66         169397            81      2019-07-05        True   \n",
       "67         167552            76      2018-04-12       False   \n",
       "68         311866            80      2007-09-11        True   \n",
       "\n",
       "                                 sp_artists_name  \n",
       "0                               [Arizona Zervas]  \n",
       "1                                     [Doja Cat]  \n",
       "2                       [Camila Cabello, DaBaby]  \n",
       "3                              [Kid Francescoli]  \n",
       "4                               [Cookiee Kawaii]  \n",
       "..                                           ...  \n",
       "64                               [Avril Lavigne]  \n",
       "65                                     [Rihanna]  \n",
       "66  [Machine Gun Kelly, YUNGBLUD, Travis Barker]  \n",
       "67                                       [Bazzi]  \n",
       "68                                  [Kanye West]  \n",
       "\n",
       "[69 rows x 12 columns]"
      ]
     },
     "execution_count": 17,
     "metadata": {},
     "output_type": "execute_result"
    }
   ],
   "source": [
    "# Add desired information to the dataframe\n",
    "df_sp = get_spotify_track_info(df_sp)\n",
    "\n",
    "# Check the result\n",
    "df_sp"
   ]
  },
  {
   "cell_type": "code",
   "execution_count": 18,
   "metadata": {
    "ExecuteTime": {
     "end_time": "2020-09-18T19:01:06.788672Z",
     "start_time": "2020-09-18T19:01:06.765733Z"
    },
    "code_folding": []
   },
   "outputs": [
    {
     "data": {
      "text/html": [
       "<div>\n",
       "<style scoped>\n",
       "    .dataframe tbody tr th:only-of-type {\n",
       "        vertical-align: middle;\n",
       "    }\n",
       "\n",
       "    .dataframe tbody tr th {\n",
       "        vertical-align: top;\n",
       "    }\n",
       "\n",
       "    .dataframe thead th {\n",
       "        text-align: right;\n",
       "    }\n",
       "</style>\n",
       "<table border=\"1\" class=\"dataframe\">\n",
       "  <thead>\n",
       "    <tr style=\"text-align: right;\">\n",
       "      <th></th>\n",
       "      <th>song</th>\n",
       "      <th>artists</th>\n",
       "      <th>artists_list</th>\n",
       "      <th>number_artists</th>\n",
       "      <th>spotify_search</th>\n",
       "      <th>sp_name</th>\n",
       "      <th>sp_id</th>\n",
       "      <th>sp_duration_ms</th>\n",
       "      <th>sp_popularity</th>\n",
       "      <th>sp_release_date</th>\n",
       "      <th>sp_explicit</th>\n",
       "      <th>sp_artists_name</th>\n",
       "    </tr>\n",
       "  </thead>\n",
       "  <tbody>\n",
       "    <tr>\n",
       "      <th>11</th>\n",
       "      <td>How About Now</td>\n",
       "      <td>Bryson Tiller</td>\n",
       "      <td>[Bryson Tiller]</td>\n",
       "      <td>1</td>\n",
       "      <td>{'tracks': {'href': 'https://api.spotify.com/v...</td>\n",
       "      <td>not-found</td>\n",
       "      <td>not-found</td>\n",
       "      <td>not-found</td>\n",
       "      <td>not-found</td>\n",
       "      <td>not-found</td>\n",
       "      <td>not-found</td>\n",
       "      <td>not-found</td>\n",
       "    </tr>\n",
       "    <tr>\n",
       "      <th>36</th>\n",
       "      <td>Shibuya — Chanel Funk Remix</td>\n",
       "      <td>Frank Ocean and L.Dre</td>\n",
       "      <td>[Frank Ocean, L.Dre]</td>\n",
       "      <td>2</td>\n",
       "      <td>{'tracks': {'href': 'https://api.spotify.com/v...</td>\n",
       "      <td>not-found</td>\n",
       "      <td>not-found</td>\n",
       "      <td>not-found</td>\n",
       "      <td>not-found</td>\n",
       "      <td>not-found</td>\n",
       "      <td>not-found</td>\n",
       "      <td>not-found</td>\n",
       "    </tr>\n",
       "    <tr>\n",
       "      <th>39</th>\n",
       "      <td>WOP</td>\n",
       "      <td>J. Dash feat. Flo Rida</td>\n",
       "      <td>[J. Dash, Flo Rida]</td>\n",
       "      <td>2</td>\n",
       "      <td>{'tracks': {'href': 'https://api.spotify.com/v...</td>\n",
       "      <td>not-found</td>\n",
       "      <td>not-found</td>\n",
       "      <td>not-found</td>\n",
       "      <td>not-found</td>\n",
       "      <td>not-found</td>\n",
       "      <td>not-found</td>\n",
       "      <td>not-found</td>\n",
       "    </tr>\n",
       "  </tbody>\n",
       "</table>\n",
       "</div>"
      ],
      "text/plain": [
       "                           song                 artists          artists_list  \\\n",
       "11                How About Now           Bryson Tiller       [Bryson Tiller]   \n",
       "36  Shibuya — Chanel Funk Remix   Frank Ocean and L.Dre  [Frank Ocean, L.Dre]   \n",
       "39                          WOP  J. Dash feat. Flo Rida   [J. Dash, Flo Rida]   \n",
       "\n",
       "    number_artists                                     spotify_search  \\\n",
       "11               1  {'tracks': {'href': 'https://api.spotify.com/v...   \n",
       "36               2  {'tracks': {'href': 'https://api.spotify.com/v...   \n",
       "39               2  {'tracks': {'href': 'https://api.spotify.com/v...   \n",
       "\n",
       "      sp_name      sp_id sp_duration_ms sp_popularity sp_release_date  \\\n",
       "11  not-found  not-found      not-found     not-found       not-found   \n",
       "36  not-found  not-found      not-found     not-found       not-found   \n",
       "39  not-found  not-found      not-found     not-found       not-found   \n",
       "\n",
       "   sp_explicit sp_artists_name  \n",
       "11   not-found       not-found  \n",
       "36   not-found       not-found  \n",
       "39   not-found       not-found  "
      ]
     },
     "execution_count": 18,
     "metadata": {},
     "output_type": "execute_result"
    }
   ],
   "source": [
    "# Check if songs were not found in Spotify\n",
    "df_sp[df_sp.sp_id == 'not-found']"
   ]
  },
  {
   "cell_type": "markdown",
   "metadata": {},
   "source": [
    "3 songs were not found in Spotify. There were checked manually using the Spotify Desktop. The first two do not exist there. Finally, the third song exists, but the version with the featured artist in the dataframe does not exist there."
   ]
  },
  {
   "cell_type": "markdown",
   "metadata": {},
   "source": [
    "### Find the audio features for each song"
   ]
  },
  {
   "cell_type": "code",
   "execution_count": 19,
   "metadata": {
    "ExecuteTime": {
     "end_time": "2020-09-18T19:01:18.742067Z",
     "start_time": "2020-09-18T19:01:06.789669Z"
    }
   },
   "outputs": [
    {
     "data": {
      "application/vnd.jupyter.widget-view+json": {
       "model_id": "0adbee54c5644fa8952162497a0b8b31",
       "version_major": 2,
       "version_minor": 0
      },
      "text/plain": [
       "HBox(children=(FloatProgress(value=0.0, max=69.0), HTML(value='')))"
      ]
     },
     "metadata": {},
     "output_type": "display_data"
    },
    {
     "name": "stdout",
     "output_type": "stream",
     "text": [
      "\n"
     ]
    }
   ],
   "source": [
    "# Search in the API wrapper\n",
    "spotify_audio_features = [sp.audio_features(track_id)  if track_id != 'not-found'else 'not-found' \n",
    "                          for track_id in tqdm(df_sp.sp_id)]"
   ]
  },
  {
   "cell_type": "code",
   "execution_count": 20,
   "metadata": {
    "ExecuteTime": {
     "end_time": "2020-09-18T19:01:18.749027Z",
     "start_time": "2020-09-18T19:01:18.744007Z"
    }
   },
   "outputs": [
    {
     "data": {
      "text/plain": [
       "69"
      ]
     },
     "execution_count": 20,
     "metadata": {},
     "output_type": "execute_result"
    }
   ],
   "source": [
    "# Check if there are 69 items in this list\n",
    "len(spotify_audio_features)"
   ]
  },
  {
   "cell_type": "code",
   "execution_count": 21,
   "metadata": {
    "ExecuteTime": {
     "end_time": "2020-09-18T19:01:18.760997Z",
     "start_time": "2020-09-18T19:01:18.749991Z"
    }
   },
   "outputs": [],
   "source": [
    "# Function to add new information in a copy of the dataframe\n",
    "def get_spotify_audio_features(df, audio_features: list):\n",
    "    \n",
    "    '''\n",
    "    Adds new information from a list to a copy of the dataframe\n",
    "    \n",
    "    Args:\n",
    "    -----\n",
    "        df (Pandas DataFrame): a dataframe containing the songs and their artists\n",
    "    \n",
    "    Returns:\n",
    "    --------\n",
    "        df_copy (Pandas DataFrame): a copy of the dataframe with some new information appended\n",
    "    '''\n",
    "    \n",
    "    # Create auxiliary empty lists (final lists)\n",
    "    list_danceability = []\n",
    "    list_energy = []\n",
    "    list_key = []\n",
    "    list_loudness = []\n",
    "    list_mode = []\n",
    "    list_speechiness = []\n",
    "    list_acousticness = []\n",
    "    list_instrumentalness = []\n",
    "    list_liveness = []\n",
    "    list_valence = []\n",
    "    list_tempo = []\n",
    "    list_time_signature = []\n",
    "    lists_features = [list_danceability, list_energy, list_key, list_loudness, list_mode, list_speechiness, \n",
    "                      list_acousticness, list_instrumentalness, list_liveness, list_valence, list_tempo,\n",
    "                      list_time_signature]\n",
    "    \n",
    "    # Check for each row of the dataframe\n",
    "    for index in df.index:\n",
    "        \n",
    "        # Get the track's Spotify id\n",
    "        track_id = df.iloc[index, 5]\n",
    "        \n",
    "        # If the track was not found in the Spotify library, a 'not-found' string is added to the final lists\n",
    "        if track_id == 'not-found':\n",
    "            \n",
    "            for lst in lists_features:\n",
    "                lst.append('not-found')\n",
    "    \n",
    "        # If the track was found in the Spotify library\n",
    "        else:\n",
    "            \n",
    "            # Add the information to the final lists\n",
    "            list_danceability.append(audio_features[index][0]['danceability'])\n",
    "            list_energy.append(audio_features[index][0]['energy'])\n",
    "            list_key.append(audio_features[index][0]['key'])\n",
    "            list_loudness.append(audio_features[index][0]['loudness'])\n",
    "            list_mode.append(audio_features[index][0]['mode'])\n",
    "            list_speechiness.append(audio_features[index][0]['speechiness'])\n",
    "            list_acousticness.append(audio_features[index][0]['acousticness'])\n",
    "            list_instrumentalness.append(audio_features[index][0]['instrumentalness'])\n",
    "            list_liveness.append(audio_features[index][0]['liveness'])\n",
    "            list_valence.append(audio_features[index][0]['valence'])\n",
    "            list_tempo.append(audio_features[index][0]['tempo'])\n",
    "            list_time_signature.append(audio_features[index][0]['time_signature'])\n",
    "     \n",
    "     # Make a copy of the dataframe\n",
    "    df_copy = df.copy()\n",
    "    \n",
    "    # Add columns with the desired information\n",
    "    # Not an inplace process\n",
    "    df_copy['sp_danceability'] = list_danceability\n",
    "    df_copy['sp_energy'] = list_energy\n",
    "    df_copy['sp_key'] = list_key\n",
    "    df_copy['sp_loudness'] = list_loudness\n",
    "    df_copy['sp_mode'] = list_mode\n",
    "    df_copy['sp_speechiness'] = list_speechiness\n",
    "    df_copy['sp_acousticness'] = list_acousticness\n",
    "    df_copy['sp_instrumentalness'] = list_instrumentalness\n",
    "    df_copy['sp_liveness'] = list_liveness\n",
    "    df_copy['sp_valence'] = list_valence\n",
    "    df_copy['sp_tempo'] = list_tempo\n",
    "    df_copy['sp_time_signature'] = list_time_signature\n",
    "    \n",
    "    return df_copy"
   ]
  },
  {
   "cell_type": "code",
   "execution_count": 22,
   "metadata": {
    "ExecuteTime": {
     "end_time": "2020-09-18T19:01:18.818852Z",
     "start_time": "2020-09-18T19:01:18.762971Z"
    }
   },
   "outputs": [
    {
     "data": {
      "text/html": [
       "<div>\n",
       "<style scoped>\n",
       "    .dataframe tbody tr th:only-of-type {\n",
       "        vertical-align: middle;\n",
       "    }\n",
       "\n",
       "    .dataframe tbody tr th {\n",
       "        vertical-align: top;\n",
       "    }\n",
       "\n",
       "    .dataframe thead th {\n",
       "        text-align: right;\n",
       "    }\n",
       "</style>\n",
       "<table border=\"1\" class=\"dataframe\">\n",
       "  <thead>\n",
       "    <tr style=\"text-align: right;\">\n",
       "      <th></th>\n",
       "      <th>song</th>\n",
       "      <th>artists</th>\n",
       "      <th>artists_list</th>\n",
       "      <th>number_artists</th>\n",
       "      <th>spotify_search</th>\n",
       "      <th>sp_name</th>\n",
       "      <th>sp_id</th>\n",
       "      <th>sp_duration_ms</th>\n",
       "      <th>sp_popularity</th>\n",
       "      <th>sp_release_date</th>\n",
       "      <th>...</th>\n",
       "      <th>sp_key</th>\n",
       "      <th>sp_loudness</th>\n",
       "      <th>sp_mode</th>\n",
       "      <th>sp_speechiness</th>\n",
       "      <th>sp_acousticness</th>\n",
       "      <th>sp_instrumentalness</th>\n",
       "      <th>sp_liveness</th>\n",
       "      <th>sp_valence</th>\n",
       "      <th>sp_tempo</th>\n",
       "      <th>sp_time_signature</th>\n",
       "    </tr>\n",
       "  </thead>\n",
       "  <tbody>\n",
       "    <tr>\n",
       "      <th>0</th>\n",
       "      <td>Roxanne</td>\n",
       "      <td>Arizona Zervas</td>\n",
       "      <td>[Arizona Zervas]</td>\n",
       "      <td>1</td>\n",
       "      <td>{'tracks': {'href': 'https://api.spotify.com/v...</td>\n",
       "      <td>ROXANNE</td>\n",
       "      <td>696DnlkuDOXcMAnKlTgXXK</td>\n",
       "      <td>163636</td>\n",
       "      <td>88</td>\n",
       "      <td>2019-10-10</td>\n",
       "      <td>...</td>\n",
       "      <td>6</td>\n",
       "      <td>-5.616</td>\n",
       "      <td>0</td>\n",
       "      <td>0.148</td>\n",
       "      <td>0.0522</td>\n",
       "      <td>0</td>\n",
       "      <td>0.46</td>\n",
       "      <td>0.457</td>\n",
       "      <td>116.735</td>\n",
       "      <td>5</td>\n",
       "    </tr>\n",
       "    <tr>\n",
       "      <th>1</th>\n",
       "      <td>Say So</td>\n",
       "      <td>Doja Cat</td>\n",
       "      <td>[Doja Cat]</td>\n",
       "      <td>1</td>\n",
       "      <td>{'tracks': {'href': 'https://api.spotify.com/v...</td>\n",
       "      <td>Say So</td>\n",
       "      <td>3Dv1eDb0MEgF93GpLXlucZ</td>\n",
       "      <td>237893</td>\n",
       "      <td>88</td>\n",
       "      <td>2019-11-07</td>\n",
       "      <td>...</td>\n",
       "      <td>11</td>\n",
       "      <td>-4.577</td>\n",
       "      <td>0</td>\n",
       "      <td>0.158</td>\n",
       "      <td>0.256</td>\n",
       "      <td>3.57e-06</td>\n",
       "      <td>0.0904</td>\n",
       "      <td>0.786</td>\n",
       "      <td>110.962</td>\n",
       "      <td>4</td>\n",
       "    </tr>\n",
       "    <tr>\n",
       "      <th>2</th>\n",
       "      <td>My Oh My</td>\n",
       "      <td>Camila Cabello feat. DaBaby</td>\n",
       "      <td>[Camila Cabello, DaBaby]</td>\n",
       "      <td>2</td>\n",
       "      <td>{'tracks': {'href': 'https://api.spotify.com/v...</td>\n",
       "      <td>My Oh My (feat. DaBaby)</td>\n",
       "      <td>3yOlyBJuViE2YSGn3nVE1K</td>\n",
       "      <td>170746</td>\n",
       "      <td>82</td>\n",
       "      <td>2019-12-06</td>\n",
       "      <td>...</td>\n",
       "      <td>8</td>\n",
       "      <td>-6.024</td>\n",
       "      <td>1</td>\n",
       "      <td>0.0296</td>\n",
       "      <td>0.018</td>\n",
       "      <td>1.29e-05</td>\n",
       "      <td>0.0887</td>\n",
       "      <td>0.383</td>\n",
       "      <td>105.046</td>\n",
       "      <td>4</td>\n",
       "    </tr>\n",
       "    <tr>\n",
       "      <th>3</th>\n",
       "      <td>Moon</td>\n",
       "      <td>Kid Francescoli</td>\n",
       "      <td>[Kid Francescoli]</td>\n",
       "      <td>1</td>\n",
       "      <td>{'tracks': {'href': 'https://api.spotify.com/v...</td>\n",
       "      <td>Moon (And It Went Like)</td>\n",
       "      <td>24upABZ8A0sAepfu91sEYr</td>\n",
       "      <td>390638</td>\n",
       "      <td>70</td>\n",
       "      <td>2017-03-03</td>\n",
       "      <td>...</td>\n",
       "      <td>7</td>\n",
       "      <td>-10.002</td>\n",
       "      <td>1</td>\n",
       "      <td>0.0345</td>\n",
       "      <td>0.288</td>\n",
       "      <td>0.856</td>\n",
       "      <td>0.102</td>\n",
       "      <td>0.0584</td>\n",
       "      <td>117.986</td>\n",
       "      <td>4</td>\n",
       "    </tr>\n",
       "    <tr>\n",
       "      <th>4</th>\n",
       "      <td>Vibe</td>\n",
       "      <td>Cookiee Kawaii</td>\n",
       "      <td>[Cookiee Kawaii]</td>\n",
       "      <td>1</td>\n",
       "      <td>{'tracks': {'href': 'https://api.spotify.com/v...</td>\n",
       "      <td>Vibe (If I Back It Up)</td>\n",
       "      <td>4gOgQTv9RYYFZ1uQNnlk3q</td>\n",
       "      <td>83940</td>\n",
       "      <td>72</td>\n",
       "      <td>2019-03-29</td>\n",
       "      <td>...</td>\n",
       "      <td>10</td>\n",
       "      <td>-8.719</td>\n",
       "      <td>1</td>\n",
       "      <td>0.344</td>\n",
       "      <td>0.0635</td>\n",
       "      <td>0.00932</td>\n",
       "      <td>0.118</td>\n",
       "      <td>0.175</td>\n",
       "      <td>159.947</td>\n",
       "      <td>4</td>\n",
       "    </tr>\n",
       "  </tbody>\n",
       "</table>\n",
       "<p>5 rows × 24 columns</p>\n",
       "</div>"
      ],
      "text/plain": [
       "       song                      artists              artists_list  \\\n",
       "0   Roxanne               Arizona Zervas          [Arizona Zervas]   \n",
       "1    Say So                     Doja Cat                [Doja Cat]   \n",
       "2  My Oh My  Camila Cabello feat. DaBaby  [Camila Cabello, DaBaby]   \n",
       "3      Moon              Kid Francescoli         [Kid Francescoli]   \n",
       "4      Vibe               Cookiee Kawaii          [Cookiee Kawaii]   \n",
       "\n",
       "   number_artists                                     spotify_search  \\\n",
       "0               1  {'tracks': {'href': 'https://api.spotify.com/v...   \n",
       "1               1  {'tracks': {'href': 'https://api.spotify.com/v...   \n",
       "2               2  {'tracks': {'href': 'https://api.spotify.com/v...   \n",
       "3               1  {'tracks': {'href': 'https://api.spotify.com/v...   \n",
       "4               1  {'tracks': {'href': 'https://api.spotify.com/v...   \n",
       "\n",
       "                   sp_name                   sp_id sp_duration_ms  \\\n",
       "0                  ROXANNE  696DnlkuDOXcMAnKlTgXXK         163636   \n",
       "1                   Say So  3Dv1eDb0MEgF93GpLXlucZ         237893   \n",
       "2  My Oh My (feat. DaBaby)  3yOlyBJuViE2YSGn3nVE1K         170746   \n",
       "3  Moon (And It Went Like)  24upABZ8A0sAepfu91sEYr         390638   \n",
       "4   Vibe (If I Back It Up)  4gOgQTv9RYYFZ1uQNnlk3q          83940   \n",
       "\n",
       "  sp_popularity sp_release_date  ... sp_key sp_loudness sp_mode  \\\n",
       "0            88      2019-10-10  ...      6      -5.616       0   \n",
       "1            88      2019-11-07  ...     11      -4.577       0   \n",
       "2            82      2019-12-06  ...      8      -6.024       1   \n",
       "3            70      2017-03-03  ...      7     -10.002       1   \n",
       "4            72      2019-03-29  ...     10      -8.719       1   \n",
       "\n",
       "  sp_speechiness sp_acousticness sp_instrumentalness sp_liveness sp_valence  \\\n",
       "0          0.148          0.0522                   0        0.46      0.457   \n",
       "1          0.158           0.256            3.57e-06      0.0904      0.786   \n",
       "2         0.0296           0.018            1.29e-05      0.0887      0.383   \n",
       "3         0.0345           0.288               0.856       0.102     0.0584   \n",
       "4          0.344          0.0635             0.00932       0.118      0.175   \n",
       "\n",
       "  sp_tempo sp_time_signature  \n",
       "0  116.735                 5  \n",
       "1  110.962                 4  \n",
       "2  105.046                 4  \n",
       "3  117.986                 4  \n",
       "4  159.947                 4  \n",
       "\n",
       "[5 rows x 24 columns]"
      ]
     },
     "execution_count": 22,
     "metadata": {},
     "output_type": "execute_result"
    }
   ],
   "source": [
    "# Add new information to the dataframe\n",
    "df_sp = get_spotify_audio_features(df_sp, spotify_audio_features)\n",
    "\n",
    "# Check result\n",
    "df_sp.head()"
   ]
  },
  {
   "cell_type": "markdown",
   "metadata": {},
   "source": [
    "### Final Dataframe"
   ]
  },
  {
   "cell_type": "code",
   "execution_count": 23,
   "metadata": {
    "ExecuteTime": {
     "end_time": "2020-09-18T19:01:18.891646Z",
     "start_time": "2020-09-18T19:01:18.819805Z"
    }
   },
   "outputs": [
    {
     "data": {
      "text/html": [
       "<div>\n",
       "<style scoped>\n",
       "    .dataframe tbody tr th:only-of-type {\n",
       "        vertical-align: middle;\n",
       "    }\n",
       "\n",
       "    .dataframe tbody tr th {\n",
       "        vertical-align: top;\n",
       "    }\n",
       "\n",
       "    .dataframe thead th {\n",
       "        text-align: right;\n",
       "    }\n",
       "</style>\n",
       "<table border=\"1\" class=\"dataframe\">\n",
       "  <thead>\n",
       "    <tr style=\"text-align: right;\">\n",
       "      <th></th>\n",
       "      <th>song</th>\n",
       "      <th>artists</th>\n",
       "      <th>artists_list</th>\n",
       "      <th>number_artists</th>\n",
       "      <th>spotify_search</th>\n",
       "      <th>sp_name</th>\n",
       "      <th>sp_id</th>\n",
       "      <th>sp_duration_ms</th>\n",
       "      <th>sp_popularity</th>\n",
       "      <th>sp_release_date</th>\n",
       "      <th>...</th>\n",
       "      <th>sp_key</th>\n",
       "      <th>sp_loudness</th>\n",
       "      <th>sp_mode</th>\n",
       "      <th>sp_speechiness</th>\n",
       "      <th>sp_acousticness</th>\n",
       "      <th>sp_instrumentalness</th>\n",
       "      <th>sp_liveness</th>\n",
       "      <th>sp_valence</th>\n",
       "      <th>sp_tempo</th>\n",
       "      <th>sp_time_signature</th>\n",
       "    </tr>\n",
       "  </thead>\n",
       "  <tbody>\n",
       "    <tr>\n",
       "      <th>0</th>\n",
       "      <td>Roxanne</td>\n",
       "      <td>Arizona Zervas</td>\n",
       "      <td>[Arizona Zervas]</td>\n",
       "      <td>1</td>\n",
       "      <td>{'tracks': {'href': 'https://api.spotify.com/v...</td>\n",
       "      <td>ROXANNE</td>\n",
       "      <td>696DnlkuDOXcMAnKlTgXXK</td>\n",
       "      <td>163636</td>\n",
       "      <td>88</td>\n",
       "      <td>2019-10-10</td>\n",
       "      <td>...</td>\n",
       "      <td>6</td>\n",
       "      <td>-5.616</td>\n",
       "      <td>0</td>\n",
       "      <td>0.148</td>\n",
       "      <td>0.0522</td>\n",
       "      <td>0</td>\n",
       "      <td>0.46</td>\n",
       "      <td>0.457</td>\n",
       "      <td>116.735</td>\n",
       "      <td>5</td>\n",
       "    </tr>\n",
       "    <tr>\n",
       "      <th>1</th>\n",
       "      <td>Say So</td>\n",
       "      <td>Doja Cat</td>\n",
       "      <td>[Doja Cat]</td>\n",
       "      <td>1</td>\n",
       "      <td>{'tracks': {'href': 'https://api.spotify.com/v...</td>\n",
       "      <td>Say So</td>\n",
       "      <td>3Dv1eDb0MEgF93GpLXlucZ</td>\n",
       "      <td>237893</td>\n",
       "      <td>88</td>\n",
       "      <td>2019-11-07</td>\n",
       "      <td>...</td>\n",
       "      <td>11</td>\n",
       "      <td>-4.577</td>\n",
       "      <td>0</td>\n",
       "      <td>0.158</td>\n",
       "      <td>0.256</td>\n",
       "      <td>3.57e-06</td>\n",
       "      <td>0.0904</td>\n",
       "      <td>0.786</td>\n",
       "      <td>110.962</td>\n",
       "      <td>4</td>\n",
       "    </tr>\n",
       "    <tr>\n",
       "      <th>2</th>\n",
       "      <td>My Oh My</td>\n",
       "      <td>Camila Cabello feat. DaBaby</td>\n",
       "      <td>[Camila Cabello, DaBaby]</td>\n",
       "      <td>2</td>\n",
       "      <td>{'tracks': {'href': 'https://api.spotify.com/v...</td>\n",
       "      <td>My Oh My (feat. DaBaby)</td>\n",
       "      <td>3yOlyBJuViE2YSGn3nVE1K</td>\n",
       "      <td>170746</td>\n",
       "      <td>82</td>\n",
       "      <td>2019-12-06</td>\n",
       "      <td>...</td>\n",
       "      <td>8</td>\n",
       "      <td>-6.024</td>\n",
       "      <td>1</td>\n",
       "      <td>0.0296</td>\n",
       "      <td>0.018</td>\n",
       "      <td>1.29e-05</td>\n",
       "      <td>0.0887</td>\n",
       "      <td>0.383</td>\n",
       "      <td>105.046</td>\n",
       "      <td>4</td>\n",
       "    </tr>\n",
       "    <tr>\n",
       "      <th>3</th>\n",
       "      <td>Moon</td>\n",
       "      <td>Kid Francescoli</td>\n",
       "      <td>[Kid Francescoli]</td>\n",
       "      <td>1</td>\n",
       "      <td>{'tracks': {'href': 'https://api.spotify.com/v...</td>\n",
       "      <td>Moon (And It Went Like)</td>\n",
       "      <td>24upABZ8A0sAepfu91sEYr</td>\n",
       "      <td>390638</td>\n",
       "      <td>70</td>\n",
       "      <td>2017-03-03</td>\n",
       "      <td>...</td>\n",
       "      <td>7</td>\n",
       "      <td>-10.002</td>\n",
       "      <td>1</td>\n",
       "      <td>0.0345</td>\n",
       "      <td>0.288</td>\n",
       "      <td>0.856</td>\n",
       "      <td>0.102</td>\n",
       "      <td>0.0584</td>\n",
       "      <td>117.986</td>\n",
       "      <td>4</td>\n",
       "    </tr>\n",
       "    <tr>\n",
       "      <th>4</th>\n",
       "      <td>Vibe</td>\n",
       "      <td>Cookiee Kawaii</td>\n",
       "      <td>[Cookiee Kawaii]</td>\n",
       "      <td>1</td>\n",
       "      <td>{'tracks': {'href': 'https://api.spotify.com/v...</td>\n",
       "      <td>Vibe (If I Back It Up)</td>\n",
       "      <td>4gOgQTv9RYYFZ1uQNnlk3q</td>\n",
       "      <td>83940</td>\n",
       "      <td>72</td>\n",
       "      <td>2019-03-29</td>\n",
       "      <td>...</td>\n",
       "      <td>10</td>\n",
       "      <td>-8.719</td>\n",
       "      <td>1</td>\n",
       "      <td>0.344</td>\n",
       "      <td>0.0635</td>\n",
       "      <td>0.00932</td>\n",
       "      <td>0.118</td>\n",
       "      <td>0.175</td>\n",
       "      <td>159.947</td>\n",
       "      <td>4</td>\n",
       "    </tr>\n",
       "    <tr>\n",
       "      <th>...</th>\n",
       "      <td>...</td>\n",
       "      <td>...</td>\n",
       "      <td>...</td>\n",
       "      <td>...</td>\n",
       "      <td>...</td>\n",
       "      <td>...</td>\n",
       "      <td>...</td>\n",
       "      <td>...</td>\n",
       "      <td>...</td>\n",
       "      <td>...</td>\n",
       "      <td>...</td>\n",
       "      <td>...</td>\n",
       "      <td>...</td>\n",
       "      <td>...</td>\n",
       "      <td>...</td>\n",
       "      <td>...</td>\n",
       "      <td>...</td>\n",
       "      <td>...</td>\n",
       "      <td>...</td>\n",
       "      <td>...</td>\n",
       "      <td>...</td>\n",
       "    </tr>\n",
       "    <tr>\n",
       "      <th>64</th>\n",
       "      <td>What the Hell</td>\n",
       "      <td>Avril Lavigne</td>\n",
       "      <td>[Avril Lavigne]</td>\n",
       "      <td>1</td>\n",
       "      <td>{'tracks': {'href': 'https://api.spotify.com/v...</td>\n",
       "      <td>What the Hell</td>\n",
       "      <td>2z4U9d5OAA4YLNXoCgioxo</td>\n",
       "      <td>220706</td>\n",
       "      <td>74</td>\n",
       "      <td>2011-03-08</td>\n",
       "      <td>...</td>\n",
       "      <td>6</td>\n",
       "      <td>-3.689</td>\n",
       "      <td>0</td>\n",
       "      <td>0.0548</td>\n",
       "      <td>0.00472</td>\n",
       "      <td>0.0127</td>\n",
       "      <td>0.14</td>\n",
       "      <td>0.877</td>\n",
       "      <td>149.976</td>\n",
       "      <td>4</td>\n",
       "    </tr>\n",
       "    <tr>\n",
       "      <th>65</th>\n",
       "      <td>Towards the Sun</td>\n",
       "      <td>Rihanna</td>\n",
       "      <td>[Rihanna]</td>\n",
       "      <td>1</td>\n",
       "      <td>{'tracks': {'href': 'https://api.spotify.com/v...</td>\n",
       "      <td>Towards The Sun - From The \"Home\" Soundtrack</td>\n",
       "      <td>1UuZhGTon3gzXQAJzNa2A4</td>\n",
       "      <td>273293</td>\n",
       "      <td>55</td>\n",
       "      <td>2015-03-23</td>\n",
       "      <td>...</td>\n",
       "      <td>4</td>\n",
       "      <td>-6.207</td>\n",
       "      <td>0</td>\n",
       "      <td>0.0392</td>\n",
       "      <td>0.0531</td>\n",
       "      <td>0</td>\n",
       "      <td>0.152</td>\n",
       "      <td>0.263</td>\n",
       "      <td>170.18</td>\n",
       "      <td>4</td>\n",
       "    </tr>\n",
       "    <tr>\n",
       "      <th>66</th>\n",
       "      <td>I Think I'm OKAY</td>\n",
       "      <td>Machine Gun Kelly, YUNGBLUD, and Travis Barker</td>\n",
       "      <td>[Machine Gun Kelly, YUNGBLUD, Travis Barker]</td>\n",
       "      <td>3</td>\n",
       "      <td>{'tracks': {'href': 'https://api.spotify.com/v...</td>\n",
       "      <td>I Think I'm OKAY (with YUNGBLUD &amp; Travis Barker)</td>\n",
       "      <td>2gTdDMpNxIRFSiu7HutMCg</td>\n",
       "      <td>169397</td>\n",
       "      <td>81</td>\n",
       "      <td>2019-07-05</td>\n",
       "      <td>...</td>\n",
       "      <td>7</td>\n",
       "      <td>-4.718</td>\n",
       "      <td>1</td>\n",
       "      <td>0.0379</td>\n",
       "      <td>0.0257</td>\n",
       "      <td>0</td>\n",
       "      <td>0.313</td>\n",
       "      <td>0.277</td>\n",
       "      <td>119.921</td>\n",
       "      <td>4</td>\n",
       "    </tr>\n",
       "    <tr>\n",
       "      <th>67</th>\n",
       "      <td>Myself</td>\n",
       "      <td>Bazzi</td>\n",
       "      <td>[Bazzi]</td>\n",
       "      <td>1</td>\n",
       "      <td>{'tracks': {'href': 'https://api.spotify.com/v...</td>\n",
       "      <td>Myself</td>\n",
       "      <td>5YLHLxoZsodDWjqSgjhBf3</td>\n",
       "      <td>167552</td>\n",
       "      <td>76</td>\n",
       "      <td>2018-04-12</td>\n",
       "      <td>...</td>\n",
       "      <td>9</td>\n",
       "      <td>-5.513</td>\n",
       "      <td>0</td>\n",
       "      <td>0.072</td>\n",
       "      <td>0.465</td>\n",
       "      <td>1.12e-06</td>\n",
       "      <td>0.0338</td>\n",
       "      <td>0.902</td>\n",
       "      <td>195.918</td>\n",
       "      <td>4</td>\n",
       "    </tr>\n",
       "    <tr>\n",
       "      <th>68</th>\n",
       "      <td>Stronger</td>\n",
       "      <td>Kanye West</td>\n",
       "      <td>[Kanye West]</td>\n",
       "      <td>1</td>\n",
       "      <td>{'tracks': {'href': 'https://api.spotify.com/v...</td>\n",
       "      <td>Stronger</td>\n",
       "      <td>4fzsfWzRhPawzqhX8Qt9F3</td>\n",
       "      <td>311866</td>\n",
       "      <td>80</td>\n",
       "      <td>2007-09-11</td>\n",
       "      <td>...</td>\n",
       "      <td>10</td>\n",
       "      <td>-7.858</td>\n",
       "      <td>0</td>\n",
       "      <td>0.153</td>\n",
       "      <td>0.00564</td>\n",
       "      <td>0</td>\n",
       "      <td>0.408</td>\n",
       "      <td>0.49</td>\n",
       "      <td>103.992</td>\n",
       "      <td>4</td>\n",
       "    </tr>\n",
       "  </tbody>\n",
       "</table>\n",
       "<p>66 rows × 24 columns</p>\n",
       "</div>"
      ],
      "text/plain": [
       "                song                                         artists  \\\n",
       "0            Roxanne                                  Arizona Zervas   \n",
       "1             Say So                                        Doja Cat   \n",
       "2           My Oh My                     Camila Cabello feat. DaBaby   \n",
       "3               Moon                                 Kid Francescoli   \n",
       "4               Vibe                                  Cookiee Kawaii   \n",
       "..               ...                                             ...   \n",
       "64     What the Hell                                   Avril Lavigne   \n",
       "65   Towards the Sun                                         Rihanna   \n",
       "66  I Think I'm OKAY  Machine Gun Kelly, YUNGBLUD, and Travis Barker   \n",
       "67            Myself                                           Bazzi   \n",
       "68          Stronger                                      Kanye West   \n",
       "\n",
       "                                    artists_list  number_artists  \\\n",
       "0                               [Arizona Zervas]               1   \n",
       "1                                     [Doja Cat]               1   \n",
       "2                       [Camila Cabello, DaBaby]               2   \n",
       "3                              [Kid Francescoli]               1   \n",
       "4                               [Cookiee Kawaii]               1   \n",
       "..                                           ...             ...   \n",
       "64                               [Avril Lavigne]               1   \n",
       "65                                     [Rihanna]               1   \n",
       "66  [Machine Gun Kelly, YUNGBLUD, Travis Barker]               3   \n",
       "67                                       [Bazzi]               1   \n",
       "68                                  [Kanye West]               1   \n",
       "\n",
       "                                       spotify_search  \\\n",
       "0   {'tracks': {'href': 'https://api.spotify.com/v...   \n",
       "1   {'tracks': {'href': 'https://api.spotify.com/v...   \n",
       "2   {'tracks': {'href': 'https://api.spotify.com/v...   \n",
       "3   {'tracks': {'href': 'https://api.spotify.com/v...   \n",
       "4   {'tracks': {'href': 'https://api.spotify.com/v...   \n",
       "..                                                ...   \n",
       "64  {'tracks': {'href': 'https://api.spotify.com/v...   \n",
       "65  {'tracks': {'href': 'https://api.spotify.com/v...   \n",
       "66  {'tracks': {'href': 'https://api.spotify.com/v...   \n",
       "67  {'tracks': {'href': 'https://api.spotify.com/v...   \n",
       "68  {'tracks': {'href': 'https://api.spotify.com/v...   \n",
       "\n",
       "                                             sp_name                   sp_id  \\\n",
       "0                                            ROXANNE  696DnlkuDOXcMAnKlTgXXK   \n",
       "1                                             Say So  3Dv1eDb0MEgF93GpLXlucZ   \n",
       "2                            My Oh My (feat. DaBaby)  3yOlyBJuViE2YSGn3nVE1K   \n",
       "3                            Moon (And It Went Like)  24upABZ8A0sAepfu91sEYr   \n",
       "4                             Vibe (If I Back It Up)  4gOgQTv9RYYFZ1uQNnlk3q   \n",
       "..                                               ...                     ...   \n",
       "64                                     What the Hell  2z4U9d5OAA4YLNXoCgioxo   \n",
       "65      Towards The Sun - From The \"Home\" Soundtrack  1UuZhGTon3gzXQAJzNa2A4   \n",
       "66  I Think I'm OKAY (with YUNGBLUD & Travis Barker)  2gTdDMpNxIRFSiu7HutMCg   \n",
       "67                                            Myself  5YLHLxoZsodDWjqSgjhBf3   \n",
       "68                                          Stronger  4fzsfWzRhPawzqhX8Qt9F3   \n",
       "\n",
       "   sp_duration_ms sp_popularity sp_release_date  ... sp_key sp_loudness  \\\n",
       "0          163636            88      2019-10-10  ...      6      -5.616   \n",
       "1          237893            88      2019-11-07  ...     11      -4.577   \n",
       "2          170746            82      2019-12-06  ...      8      -6.024   \n",
       "3          390638            70      2017-03-03  ...      7     -10.002   \n",
       "4           83940            72      2019-03-29  ...     10      -8.719   \n",
       "..            ...           ...             ...  ...    ...         ...   \n",
       "64         220706            74      2011-03-08  ...      6      -3.689   \n",
       "65         273293            55      2015-03-23  ...      4      -6.207   \n",
       "66         169397            81      2019-07-05  ...      7      -4.718   \n",
       "67         167552            76      2018-04-12  ...      9      -5.513   \n",
       "68         311866            80      2007-09-11  ...     10      -7.858   \n",
       "\n",
       "   sp_mode sp_speechiness sp_acousticness sp_instrumentalness sp_liveness  \\\n",
       "0        0          0.148          0.0522                   0        0.46   \n",
       "1        0          0.158           0.256            3.57e-06      0.0904   \n",
       "2        1         0.0296           0.018            1.29e-05      0.0887   \n",
       "3        1         0.0345           0.288               0.856       0.102   \n",
       "4        1          0.344          0.0635             0.00932       0.118   \n",
       "..     ...            ...             ...                 ...         ...   \n",
       "64       0         0.0548         0.00472              0.0127        0.14   \n",
       "65       0         0.0392          0.0531                   0       0.152   \n",
       "66       1         0.0379          0.0257                   0       0.313   \n",
       "67       0          0.072           0.465            1.12e-06      0.0338   \n",
       "68       0          0.153         0.00564                   0       0.408   \n",
       "\n",
       "   sp_valence sp_tempo sp_time_signature  \n",
       "0       0.457  116.735                 5  \n",
       "1       0.786  110.962                 4  \n",
       "2       0.383  105.046                 4  \n",
       "3      0.0584  117.986                 4  \n",
       "4       0.175  159.947                 4  \n",
       "..        ...      ...               ...  \n",
       "64      0.877  149.976                 4  \n",
       "65      0.263   170.18                 4  \n",
       "66      0.277  119.921                 4  \n",
       "67      0.902  195.918                 4  \n",
       "68       0.49  103.992                 4  \n",
       "\n",
       "[66 rows x 24 columns]"
      ]
     },
     "execution_count": 23,
     "metadata": {},
     "output_type": "execute_result"
    }
   ],
   "source": [
    "df_tracks_sp = df_sp[~(df_sp.sp_id == 'not-found')]\n",
    "\n",
    "# Check the result\n",
    "df_tracks_sp"
   ]
  },
  {
   "cell_type": "code",
   "execution_count": 24,
   "metadata": {
    "ExecuteTime": {
     "end_time": "2020-09-18T19:01:18.899629Z",
     "start_time": "2020-09-18T19:01:18.892610Z"
    }
   },
   "outputs": [
    {
     "name": "stdout",
     "output_type": "stream",
     "text": [
      "<class 'pandas.core.frame.DataFrame'>\n",
      "Int64Index: 66 entries, 0 to 68\n",
      "Data columns (total 24 columns):\n",
      " #   Column               Non-Null Count  Dtype \n",
      "---  ------               --------------  ----- \n",
      " 0   song                 66 non-null     object\n",
      " 1   artists              66 non-null     object\n",
      " 2   artists_list         66 non-null     object\n",
      " 3   number_artists       66 non-null     int64 \n",
      " 4   spotify_search       66 non-null     object\n",
      " 5   sp_name              66 non-null     object\n",
      " 6   sp_id                66 non-null     object\n",
      " 7   sp_duration_ms       66 non-null     object\n",
      " 8   sp_popularity        66 non-null     object\n",
      " 9   sp_release_date      66 non-null     object\n",
      " 10  sp_explicit          66 non-null     object\n",
      " 11  sp_artists_name      66 non-null     object\n",
      " 12  sp_danceability      66 non-null     object\n",
      " 13  sp_energy            66 non-null     object\n",
      " 14  sp_key               66 non-null     object\n",
      " 15  sp_loudness          66 non-null     object\n",
      " 16  sp_mode              66 non-null     object\n",
      " 17  sp_speechiness       66 non-null     object\n",
      " 18  sp_acousticness      66 non-null     object\n",
      " 19  sp_instrumentalness  66 non-null     object\n",
      " 20  sp_liveness          66 non-null     object\n",
      " 21  sp_valence           66 non-null     object\n",
      " 22  sp_tempo             66 non-null     object\n",
      " 23  sp_time_signature    66 non-null     object\n",
      "dtypes: int64(1), object(23)\n",
      "memory usage: 12.9+ KB\n"
     ]
    }
   ],
   "source": [
    "# Dataframe metadata\n",
    "df_tracks_sp.info()"
   ]
  },
  {
   "cell_type": "markdown",
   "metadata": {},
   "source": [
    "### Export dataset"
   ]
  },
  {
   "cell_type": "code",
   "execution_count": 25,
   "metadata": {
    "ExecuteTime": {
     "end_time": "2020-09-18T19:01:19.173364Z",
     "start_time": "2020-09-18T19:01:18.900588Z"
    }
   },
   "outputs": [],
   "source": [
    "# Export\n",
    "df_tracks_sp.to_csv('exported_df/sp_tracks_info.csv', index=False)"
   ]
  },
  {
   "cell_type": "markdown",
   "metadata": {},
   "source": [
    "## Artists"
   ]
  },
  {
   "cell_type": "markdown",
   "metadata": {},
   "source": [
    "### Get artists ID"
   ]
  },
  {
   "cell_type": "code",
   "execution_count": 26,
   "metadata": {
    "ExecuteTime": {
     "end_time": "2020-09-18T19:01:19.183337Z",
     "start_time": "2020-09-18T19:01:19.174362Z"
    }
   },
   "outputs": [],
   "source": [
    "# Function to add new information in a copy of the dataframe\n",
    "def get_spotify_artists_id(df):\n",
    "    \n",
    "    '''\n",
    "    Creates a new dataframe about the artists.\n",
    "    \n",
    "    Args:\n",
    "    -----\n",
    "        df (Pandas DataFrame): a dataframe containing the songs and their artists\n",
    "    \n",
    "    Returns:\n",
    "    --------\n",
    "        df_artists_id (Pandas DataFrame): a new dataframe with the name and Spotify ID of the artists\n",
    "    '''\n",
    "    \n",
    "    # Create auxiliary empty dictionary\n",
    "    dict_artists_ids = {}\n",
    "      \n",
    "    # Check for each row of the dataframe\n",
    "    for index in df.index:\n",
    "                      \n",
    "        # Information necessary from the dataframe to use during the process\n",
    "        song_name = df.iloc[index, 0][:3].lower()\n",
    "        artists_list = [artist.lower() for artist in df.iloc[index, 2]]\n",
    "        total_artists = df.iloc[index, 3]\n",
    "        mask = df.iloc[index, 4]['tracks']['items']\n",
    "        added = 0\n",
    "        \n",
    "        # For each track it was listed 50 tracks related to the query \n",
    "        for idx, each_found in enumerate(mask):\n",
    "                \n",
    "            if mask[idx] == None:\n",
    "                    pass\n",
    "                \n",
    "            else:\n",
    "            \n",
    "                # Information necessary from the Spotify API to use during the process\n",
    "                track_name = mask[idx]['name'].lower()\n",
    "                n_artists = len(mask[idx]['artists'])\n",
    "                first_artist_name = mask[idx]['artists'][0]['name'].lower()\n",
    "\n",
    "                # Check if the name of the song, the artists from both sources match and if an information about the\n",
    "                # song has been added to the final lists \n",
    "                if ((song_name in track_name) & (total_artists == n_artists) & \n",
    "                    ((first_artist_name in artists_list) | (artists_list[0][:5] in first_artist_name)) & (added == 0)\n",
    "                    & (df.iloc[index, 5] != 'not-found')):\n",
    "\n",
    "                    for artist in mask[idx]['artists']:\n",
    "                        artist_name = artist['name']\n",
    "                        artist_id = artist['id']\n",
    "\n",
    "                        # Add to dict\n",
    "                        dict_artists_ids[artist_name] = artist_id\n",
    "\n",
    "    # Create a Pandas DataFrame\n",
    "    \n",
    "    df_artists_id = pd.DataFrame(dict_artists_ids.items(), columns=['artist', 'sp_id'])\n",
    "                    \n",
    "    return df_artists_id"
   ]
  },
  {
   "cell_type": "code",
   "execution_count": 27,
   "metadata": {
    "ExecuteTime": {
     "end_time": "2020-09-18T19:01:19.283071Z",
     "start_time": "2020-09-18T19:01:19.184335Z"
    }
   },
   "outputs": [
    {
     "data": {
      "text/html": [
       "<div>\n",
       "<style scoped>\n",
       "    .dataframe tbody tr th:only-of-type {\n",
       "        vertical-align: middle;\n",
       "    }\n",
       "\n",
       "    .dataframe tbody tr th {\n",
       "        vertical-align: top;\n",
       "    }\n",
       "\n",
       "    .dataframe thead th {\n",
       "        text-align: right;\n",
       "    }\n",
       "</style>\n",
       "<table border=\"1\" class=\"dataframe\">\n",
       "  <thead>\n",
       "    <tr style=\"text-align: right;\">\n",
       "      <th></th>\n",
       "      <th>artist</th>\n",
       "      <th>sp_id</th>\n",
       "    </tr>\n",
       "  </thead>\n",
       "  <tbody>\n",
       "    <tr>\n",
       "      <th>0</th>\n",
       "      <td>Arizona Zervas</td>\n",
       "      <td>0vRvGUQVUjytro0xpb26bs</td>\n",
       "    </tr>\n",
       "    <tr>\n",
       "      <th>1</th>\n",
       "      <td>Doja Cat</td>\n",
       "      <td>5cj0lLjcoR7YOSnhnX0Po5</td>\n",
       "    </tr>\n",
       "    <tr>\n",
       "      <th>2</th>\n",
       "      <td>Camila Cabello</td>\n",
       "      <td>4nDoRrQiYLoBzwC5BhVJzF</td>\n",
       "    </tr>\n",
       "    <tr>\n",
       "      <th>3</th>\n",
       "      <td>DaBaby</td>\n",
       "      <td>4r63FhuTkUYltbVAg5TQnk</td>\n",
       "    </tr>\n",
       "    <tr>\n",
       "      <th>4</th>\n",
       "      <td>Kid Francescoli</td>\n",
       "      <td>2G7QgTep5IsJHGHm1hXygD</td>\n",
       "    </tr>\n",
       "    <tr>\n",
       "      <th>...</th>\n",
       "      <td>...</td>\n",
       "      <td>...</td>\n",
       "    </tr>\n",
       "    <tr>\n",
       "      <th>83</th>\n",
       "      <td>Machine Gun Kelly</td>\n",
       "      <td>6TIYQ3jFPwQSRmorSezPxX</td>\n",
       "    </tr>\n",
       "    <tr>\n",
       "      <th>84</th>\n",
       "      <td>YUNGBLUD</td>\n",
       "      <td>6Ad91Jof8Niiw0lGLLi3NW</td>\n",
       "    </tr>\n",
       "    <tr>\n",
       "      <th>85</th>\n",
       "      <td>Travis Barker</td>\n",
       "      <td>4exLIFE8sISLr28sqG1qNX</td>\n",
       "    </tr>\n",
       "    <tr>\n",
       "      <th>86</th>\n",
       "      <td>Bazzi</td>\n",
       "      <td>4GvEc3ANtPPjt1ZJllr5Zl</td>\n",
       "    </tr>\n",
       "    <tr>\n",
       "      <th>87</th>\n",
       "      <td>Kanye West</td>\n",
       "      <td>5K4W6rqBFWDnAN6FQUkS6x</td>\n",
       "    </tr>\n",
       "  </tbody>\n",
       "</table>\n",
       "<p>88 rows × 2 columns</p>\n",
       "</div>"
      ],
      "text/plain": [
       "               artist                   sp_id\n",
       "0      Arizona Zervas  0vRvGUQVUjytro0xpb26bs\n",
       "1            Doja Cat  5cj0lLjcoR7YOSnhnX0Po5\n",
       "2      Camila Cabello  4nDoRrQiYLoBzwC5BhVJzF\n",
       "3              DaBaby  4r63FhuTkUYltbVAg5TQnk\n",
       "4     Kid Francescoli  2G7QgTep5IsJHGHm1hXygD\n",
       "..                ...                     ...\n",
       "83  Machine Gun Kelly  6TIYQ3jFPwQSRmorSezPxX\n",
       "84           YUNGBLUD  6Ad91Jof8Niiw0lGLLi3NW\n",
       "85      Travis Barker  4exLIFE8sISLr28sqG1qNX\n",
       "86              Bazzi  4GvEc3ANtPPjt1ZJllr5Zl\n",
       "87         Kanye West  5K4W6rqBFWDnAN6FQUkS6x\n",
       "\n",
       "[88 rows x 2 columns]"
      ]
     },
     "execution_count": 27,
     "metadata": {},
     "output_type": "execute_result"
    }
   ],
   "source": [
    "# Create a Pandas DataFrame with artists\n",
    "df_artists_sp = get_spotify_artists_id(df_sp)\n",
    "\n",
    "# Check result\n",
    "df_artists_sp"
   ]
  },
  {
   "cell_type": "code",
   "execution_count": 28,
   "metadata": {
    "ExecuteTime": {
     "end_time": "2020-09-18T19:01:36.803877Z",
     "start_time": "2020-09-18T19:01:19.284068Z"
    }
   },
   "outputs": [
    {
     "data": {
      "application/vnd.jupyter.widget-view+json": {
       "model_id": "74cf852e495e4b5e8d217a731d1b7777",
       "version_major": 2,
       "version_minor": 0
      },
      "text/plain": [
       "HBox(children=(FloatProgress(value=0.0, max=88.0), HTML(value='')))"
      ]
     },
     "metadata": {},
     "output_type": "display_data"
    },
    {
     "name": "stdout",
     "output_type": "stream",
     "text": [
      "\n"
     ]
    }
   ],
   "source": [
    "# Search in the API wrapper\n",
    "spotify_artists_info = [sp.artist(artist) for artist in  tqdm(df_artists_sp.sp_id)]"
   ]
  },
  {
   "cell_type": "code",
   "execution_count": 29,
   "metadata": {
    "ExecuteTime": {
     "end_time": "2020-09-18T19:01:36.825850Z",
     "start_time": "2020-09-18T19:01:36.807866Z"
    }
   },
   "outputs": [
    {
     "data": {
      "text/html": [
       "<div>\n",
       "<style scoped>\n",
       "    .dataframe tbody tr th:only-of-type {\n",
       "        vertical-align: middle;\n",
       "    }\n",
       "\n",
       "    .dataframe tbody tr th {\n",
       "        vertical-align: top;\n",
       "    }\n",
       "\n",
       "    .dataframe thead th {\n",
       "        text-align: right;\n",
       "    }\n",
       "</style>\n",
       "<table border=\"1\" class=\"dataframe\">\n",
       "  <thead>\n",
       "    <tr style=\"text-align: right;\">\n",
       "      <th></th>\n",
       "      <th>artist</th>\n",
       "      <th>sp_id</th>\n",
       "      <th>spotify_artist</th>\n",
       "    </tr>\n",
       "  </thead>\n",
       "  <tbody>\n",
       "    <tr>\n",
       "      <th>0</th>\n",
       "      <td>Arizona Zervas</td>\n",
       "      <td>0vRvGUQVUjytro0xpb26bs</td>\n",
       "      <td>{'external_urls': {'spotify': 'https://open.sp...</td>\n",
       "    </tr>\n",
       "    <tr>\n",
       "      <th>1</th>\n",
       "      <td>Doja Cat</td>\n",
       "      <td>5cj0lLjcoR7YOSnhnX0Po5</td>\n",
       "      <td>{'external_urls': {'spotify': 'https://open.sp...</td>\n",
       "    </tr>\n",
       "    <tr>\n",
       "      <th>2</th>\n",
       "      <td>Camila Cabello</td>\n",
       "      <td>4nDoRrQiYLoBzwC5BhVJzF</td>\n",
       "      <td>{'external_urls': {'spotify': 'https://open.sp...</td>\n",
       "    </tr>\n",
       "    <tr>\n",
       "      <th>3</th>\n",
       "      <td>DaBaby</td>\n",
       "      <td>4r63FhuTkUYltbVAg5TQnk</td>\n",
       "      <td>{'external_urls': {'spotify': 'https://open.sp...</td>\n",
       "    </tr>\n",
       "    <tr>\n",
       "      <th>4</th>\n",
       "      <td>Kid Francescoli</td>\n",
       "      <td>2G7QgTep5IsJHGHm1hXygD</td>\n",
       "      <td>{'external_urls': {'spotify': 'https://open.sp...</td>\n",
       "    </tr>\n",
       "  </tbody>\n",
       "</table>\n",
       "</div>"
      ],
      "text/plain": [
       "            artist                   sp_id  \\\n",
       "0   Arizona Zervas  0vRvGUQVUjytro0xpb26bs   \n",
       "1         Doja Cat  5cj0lLjcoR7YOSnhnX0Po5   \n",
       "2   Camila Cabello  4nDoRrQiYLoBzwC5BhVJzF   \n",
       "3           DaBaby  4r63FhuTkUYltbVAg5TQnk   \n",
       "4  Kid Francescoli  2G7QgTep5IsJHGHm1hXygD   \n",
       "\n",
       "                                      spotify_artist  \n",
       "0  {'external_urls': {'spotify': 'https://open.sp...  \n",
       "1  {'external_urls': {'spotify': 'https://open.sp...  \n",
       "2  {'external_urls': {'spotify': 'https://open.sp...  \n",
       "3  {'external_urls': {'spotify': 'https://open.sp...  \n",
       "4  {'external_urls': {'spotify': 'https://open.sp...  "
      ]
     },
     "execution_count": 29,
     "metadata": {},
     "output_type": "execute_result"
    }
   ],
   "source": [
    "# Add a column in the dataframe with the data that were just collected\n",
    "df_artists_sp['spotify_artist'] = spotify_artists_info\n",
    "\n",
    "# Check the result\n",
    "df_artists_sp.head()"
   ]
  },
  {
   "cell_type": "markdown",
   "metadata": {},
   "source": [
    "### Add information about the artists to the dataframe"
   ]
  },
  {
   "cell_type": "code",
   "execution_count": 30,
   "metadata": {
    "ExecuteTime": {
     "end_time": "2020-09-18T19:01:36.836787Z",
     "start_time": "2020-09-18T19:01:36.827812Z"
    }
   },
   "outputs": [],
   "source": [
    "# Function to add new information in a copy of the dataframe\n",
    "def get_spotify_artist_info(df):\n",
    "    \n",
    "    '''\n",
    "    Adds information about the artists to a copy of the dataframe.\n",
    "    \n",
    "    Args:\n",
    "    -----\n",
    "        df (Pandas DataFrame): a dataframe containing the artists and their Spotify ID\n",
    "    \n",
    "    Returns:\n",
    "    --------\n",
    "        df_copy (Pandas DataFrame): a copy of the dataframe with some new information appended\n",
    "    '''\n",
    "    \n",
    "    # Create auxiliary empty lists (final lists)\n",
    "    list_spotify_artist_genres = []\n",
    "    list_spotify_artist_popularity = []\n",
    "    list_spotify_artist_followers = []\n",
    "    \n",
    "    # Check for each row of the dataframe\n",
    "    for index in df.index:\n",
    "        \n",
    "        sp_id = df.iloc[index, 1]\n",
    "        mask = df.iloc[index, 2]\n",
    "        search_sp_id = mask['id']\n",
    "        #artist_name = mask['name']\n",
    "        \n",
    "        # Check if 'id's match\n",
    "        if sp_id == search_sp_id:\n",
    "            #print(f'{index} - {artist_name}: OK - {n_artist}')\n",
    "            \n",
    "            search_sp_genres = mask['genres']\n",
    "            list_spotify_artist_genres.append(search_sp_genres)\n",
    "            \n",
    "            search_sp_popularity = mask['popularity']\n",
    "            list_spotify_artist_popularity.append(search_sp_popularity)\n",
    "            \n",
    "            search_sp_followers = mask['followers']['total']\n",
    "            list_spotify_artist_followers.append(search_sp_followers)\n",
    "    \n",
    "    # Make a copy of the dataframe\n",
    "    df_copy = df.copy()\n",
    "    \n",
    "    # Add columns with the desired information\n",
    "    # Not an inplace process\n",
    "    df_copy['sp_genres'] = list_spotify_artist_genres\n",
    "    df_copy['sp_popularity'] = list_spotify_artist_popularity\n",
    "    df_copy['sp_followers'] = list_spotify_artist_followers\n",
    "                    \n",
    "    return df_copy"
   ]
  },
  {
   "cell_type": "code",
   "execution_count": 31,
   "metadata": {
    "ExecuteTime": {
     "end_time": "2020-09-18T19:01:36.865739Z",
     "start_time": "2020-09-18T19:01:36.838782Z"
    }
   },
   "outputs": [
    {
     "data": {
      "text/html": [
       "<div>\n",
       "<style scoped>\n",
       "    .dataframe tbody tr th:only-of-type {\n",
       "        vertical-align: middle;\n",
       "    }\n",
       "\n",
       "    .dataframe tbody tr th {\n",
       "        vertical-align: top;\n",
       "    }\n",
       "\n",
       "    .dataframe thead th {\n",
       "        text-align: right;\n",
       "    }\n",
       "</style>\n",
       "<table border=\"1\" class=\"dataframe\">\n",
       "  <thead>\n",
       "    <tr style=\"text-align: right;\">\n",
       "      <th></th>\n",
       "      <th>artist</th>\n",
       "      <th>sp_id</th>\n",
       "      <th>spotify_artist</th>\n",
       "      <th>sp_genres</th>\n",
       "      <th>sp_popularity</th>\n",
       "      <th>sp_followers</th>\n",
       "    </tr>\n",
       "  </thead>\n",
       "  <tbody>\n",
       "    <tr>\n",
       "      <th>0</th>\n",
       "      <td>Arizona Zervas</td>\n",
       "      <td>0vRvGUQVUjytro0xpb26bs</td>\n",
       "      <td>{'external_urls': {'spotify': 'https://open.sp...</td>\n",
       "      <td>[pop rap, rap, rhode island rap]</td>\n",
       "      <td>80</td>\n",
       "      <td>487372</td>\n",
       "    </tr>\n",
       "    <tr>\n",
       "      <th>1</th>\n",
       "      <td>Doja Cat</td>\n",
       "      <td>5cj0lLjcoR7YOSnhnX0Po5</td>\n",
       "      <td>{'external_urls': {'spotify': 'https://open.sp...</td>\n",
       "      <td>[la indie, pop]</td>\n",
       "      <td>88</td>\n",
       "      <td>3456204</td>\n",
       "    </tr>\n",
       "    <tr>\n",
       "      <th>2</th>\n",
       "      <td>Camila Cabello</td>\n",
       "      <td>4nDoRrQiYLoBzwC5BhVJzF</td>\n",
       "      <td>{'external_urls': {'spotify': 'https://open.sp...</td>\n",
       "      <td>[dance pop, pop, post-teen pop]</td>\n",
       "      <td>87</td>\n",
       "      <td>18000350</td>\n",
       "    </tr>\n",
       "    <tr>\n",
       "      <th>3</th>\n",
       "      <td>DaBaby</td>\n",
       "      <td>4r63FhuTkUYltbVAg5TQnk</td>\n",
       "      <td>{'external_urls': {'spotify': 'https://open.sp...</td>\n",
       "      <td>[north carolina hip hop, rap]</td>\n",
       "      <td>95</td>\n",
       "      <td>4334477</td>\n",
       "    </tr>\n",
       "    <tr>\n",
       "      <th>4</th>\n",
       "      <td>Kid Francescoli</td>\n",
       "      <td>2G7QgTep5IsJHGHm1hXygD</td>\n",
       "      <td>{'external_urls': {'spotify': 'https://open.sp...</td>\n",
       "      <td>[electronica, french indie pop, french indietr...</td>\n",
       "      <td>61</td>\n",
       "      <td>82376</td>\n",
       "    </tr>\n",
       "  </tbody>\n",
       "</table>\n",
       "</div>"
      ],
      "text/plain": [
       "            artist                   sp_id  \\\n",
       "0   Arizona Zervas  0vRvGUQVUjytro0xpb26bs   \n",
       "1         Doja Cat  5cj0lLjcoR7YOSnhnX0Po5   \n",
       "2   Camila Cabello  4nDoRrQiYLoBzwC5BhVJzF   \n",
       "3           DaBaby  4r63FhuTkUYltbVAg5TQnk   \n",
       "4  Kid Francescoli  2G7QgTep5IsJHGHm1hXygD   \n",
       "\n",
       "                                      spotify_artist  \\\n",
       "0  {'external_urls': {'spotify': 'https://open.sp...   \n",
       "1  {'external_urls': {'spotify': 'https://open.sp...   \n",
       "2  {'external_urls': {'spotify': 'https://open.sp...   \n",
       "3  {'external_urls': {'spotify': 'https://open.sp...   \n",
       "4  {'external_urls': {'spotify': 'https://open.sp...   \n",
       "\n",
       "                                           sp_genres  sp_popularity  \\\n",
       "0                   [pop rap, rap, rhode island rap]             80   \n",
       "1                                    [la indie, pop]             88   \n",
       "2                    [dance pop, pop, post-teen pop]             87   \n",
       "3                      [north carolina hip hop, rap]             95   \n",
       "4  [electronica, french indie pop, french indietr...             61   \n",
       "\n",
       "   sp_followers  \n",
       "0        487372  \n",
       "1       3456204  \n",
       "2      18000350  \n",
       "3       4334477  \n",
       "4         82376  "
      ]
     },
     "execution_count": 31,
     "metadata": {},
     "output_type": "execute_result"
    }
   ],
   "source": [
    "# Add desired information to the dataframe\n",
    "df_artists_sp = get_spotify_artist_info(df_artists_sp)\n",
    "\n",
    "# Check the result\n",
    "df_artists_sp.head()"
   ]
  },
  {
   "cell_type": "markdown",
   "metadata": {},
   "source": [
    "### Final Dataframe"
   ]
  },
  {
   "cell_type": "code",
   "execution_count": 32,
   "metadata": {
    "ExecuteTime": {
     "end_time": "2020-09-18T19:01:36.901648Z",
     "start_time": "2020-09-18T19:01:36.869700Z"
    }
   },
   "outputs": [
    {
     "data": {
      "text/html": [
       "<div>\n",
       "<style scoped>\n",
       "    .dataframe tbody tr th:only-of-type {\n",
       "        vertical-align: middle;\n",
       "    }\n",
       "\n",
       "    .dataframe tbody tr th {\n",
       "        vertical-align: top;\n",
       "    }\n",
       "\n",
       "    .dataframe thead th {\n",
       "        text-align: right;\n",
       "    }\n",
       "</style>\n",
       "<table border=\"1\" class=\"dataframe\">\n",
       "  <thead>\n",
       "    <tr style=\"text-align: right;\">\n",
       "      <th></th>\n",
       "      <th>artist</th>\n",
       "      <th>sp_id</th>\n",
       "      <th>spotify_artist</th>\n",
       "      <th>sp_genres</th>\n",
       "      <th>sp_popularity</th>\n",
       "      <th>sp_followers</th>\n",
       "    </tr>\n",
       "  </thead>\n",
       "  <tbody>\n",
       "    <tr>\n",
       "      <th>0</th>\n",
       "      <td>Arizona Zervas</td>\n",
       "      <td>0vRvGUQVUjytro0xpb26bs</td>\n",
       "      <td>{'external_urls': {'spotify': 'https://open.sp...</td>\n",
       "      <td>[pop rap, rap, rhode island rap]</td>\n",
       "      <td>80</td>\n",
       "      <td>487372</td>\n",
       "    </tr>\n",
       "    <tr>\n",
       "      <th>1</th>\n",
       "      <td>Doja Cat</td>\n",
       "      <td>5cj0lLjcoR7YOSnhnX0Po5</td>\n",
       "      <td>{'external_urls': {'spotify': 'https://open.sp...</td>\n",
       "      <td>[la indie, pop]</td>\n",
       "      <td>88</td>\n",
       "      <td>3456204</td>\n",
       "    </tr>\n",
       "    <tr>\n",
       "      <th>2</th>\n",
       "      <td>Camila Cabello</td>\n",
       "      <td>4nDoRrQiYLoBzwC5BhVJzF</td>\n",
       "      <td>{'external_urls': {'spotify': 'https://open.sp...</td>\n",
       "      <td>[dance pop, pop, post-teen pop]</td>\n",
       "      <td>87</td>\n",
       "      <td>18000350</td>\n",
       "    </tr>\n",
       "    <tr>\n",
       "      <th>3</th>\n",
       "      <td>DaBaby</td>\n",
       "      <td>4r63FhuTkUYltbVAg5TQnk</td>\n",
       "      <td>{'external_urls': {'spotify': 'https://open.sp...</td>\n",
       "      <td>[north carolina hip hop, rap]</td>\n",
       "      <td>95</td>\n",
       "      <td>4334477</td>\n",
       "    </tr>\n",
       "    <tr>\n",
       "      <th>4</th>\n",
       "      <td>Kid Francescoli</td>\n",
       "      <td>2G7QgTep5IsJHGHm1hXygD</td>\n",
       "      <td>{'external_urls': {'spotify': 'https://open.sp...</td>\n",
       "      <td>[electronica, french indie pop, french indietr...</td>\n",
       "      <td>61</td>\n",
       "      <td>82376</td>\n",
       "    </tr>\n",
       "    <tr>\n",
       "      <th>...</th>\n",
       "      <td>...</td>\n",
       "      <td>...</td>\n",
       "      <td>...</td>\n",
       "      <td>...</td>\n",
       "      <td>...</td>\n",
       "      <td>...</td>\n",
       "    </tr>\n",
       "    <tr>\n",
       "      <th>83</th>\n",
       "      <td>Machine Gun Kelly</td>\n",
       "      <td>6TIYQ3jFPwQSRmorSezPxX</td>\n",
       "      <td>{'external_urls': {'spotify': 'https://open.sp...</td>\n",
       "      <td>[ohio hip hop, pop rap, rap]</td>\n",
       "      <td>86</td>\n",
       "      <td>2457132</td>\n",
       "    </tr>\n",
       "    <tr>\n",
       "      <th>84</th>\n",
       "      <td>YUNGBLUD</td>\n",
       "      <td>6Ad91Jof8Niiw0lGLLi3NW</td>\n",
       "      <td>{'external_urls': {'spotify': 'https://open.sp...</td>\n",
       "      <td>[british indie rock, modern alternative rock, ...</td>\n",
       "      <td>78</td>\n",
       "      <td>1087080</td>\n",
       "    </tr>\n",
       "    <tr>\n",
       "      <th>85</th>\n",
       "      <td>Travis Barker</td>\n",
       "      <td>4exLIFE8sISLr28sqG1qNX</td>\n",
       "      <td>{'external_urls': {'spotify': 'https://open.sp...</td>\n",
       "      <td>[rap rock]</td>\n",
       "      <td>77</td>\n",
       "      <td>252472</td>\n",
       "    </tr>\n",
       "    <tr>\n",
       "      <th>86</th>\n",
       "      <td>Bazzi</td>\n",
       "      <td>4GvEc3ANtPPjt1ZJllr5Zl</td>\n",
       "      <td>{'external_urls': {'spotify': 'https://open.sp...</td>\n",
       "      <td>[pop, post-teen pop]</td>\n",
       "      <td>83</td>\n",
       "      <td>3674143</td>\n",
       "    </tr>\n",
       "    <tr>\n",
       "      <th>87</th>\n",
       "      <td>Kanye West</td>\n",
       "      <td>5K4W6rqBFWDnAN6FQUkS6x</td>\n",
       "      <td>{'external_urls': {'spotify': 'https://open.sp...</td>\n",
       "      <td>[chicago rap, rap]</td>\n",
       "      <td>91</td>\n",
       "      <td>12434421</td>\n",
       "    </tr>\n",
       "  </tbody>\n",
       "</table>\n",
       "<p>88 rows × 6 columns</p>\n",
       "</div>"
      ],
      "text/plain": [
       "               artist                   sp_id  \\\n",
       "0      Arizona Zervas  0vRvGUQVUjytro0xpb26bs   \n",
       "1            Doja Cat  5cj0lLjcoR7YOSnhnX0Po5   \n",
       "2      Camila Cabello  4nDoRrQiYLoBzwC5BhVJzF   \n",
       "3              DaBaby  4r63FhuTkUYltbVAg5TQnk   \n",
       "4     Kid Francescoli  2G7QgTep5IsJHGHm1hXygD   \n",
       "..                ...                     ...   \n",
       "83  Machine Gun Kelly  6TIYQ3jFPwQSRmorSezPxX   \n",
       "84           YUNGBLUD  6Ad91Jof8Niiw0lGLLi3NW   \n",
       "85      Travis Barker  4exLIFE8sISLr28sqG1qNX   \n",
       "86              Bazzi  4GvEc3ANtPPjt1ZJllr5Zl   \n",
       "87         Kanye West  5K4W6rqBFWDnAN6FQUkS6x   \n",
       "\n",
       "                                       spotify_artist  \\\n",
       "0   {'external_urls': {'spotify': 'https://open.sp...   \n",
       "1   {'external_urls': {'spotify': 'https://open.sp...   \n",
       "2   {'external_urls': {'spotify': 'https://open.sp...   \n",
       "3   {'external_urls': {'spotify': 'https://open.sp...   \n",
       "4   {'external_urls': {'spotify': 'https://open.sp...   \n",
       "..                                                ...   \n",
       "83  {'external_urls': {'spotify': 'https://open.sp...   \n",
       "84  {'external_urls': {'spotify': 'https://open.sp...   \n",
       "85  {'external_urls': {'spotify': 'https://open.sp...   \n",
       "86  {'external_urls': {'spotify': 'https://open.sp...   \n",
       "87  {'external_urls': {'spotify': 'https://open.sp...   \n",
       "\n",
       "                                            sp_genres  sp_popularity  \\\n",
       "0                    [pop rap, rap, rhode island rap]             80   \n",
       "1                                     [la indie, pop]             88   \n",
       "2                     [dance pop, pop, post-teen pop]             87   \n",
       "3                       [north carolina hip hop, rap]             95   \n",
       "4   [electronica, french indie pop, french indietr...             61   \n",
       "..                                                ...            ...   \n",
       "83                       [ohio hip hop, pop rap, rap]             86   \n",
       "84  [british indie rock, modern alternative rock, ...             78   \n",
       "85                                         [rap rock]             77   \n",
       "86                               [pop, post-teen pop]             83   \n",
       "87                                 [chicago rap, rap]             91   \n",
       "\n",
       "    sp_followers  \n",
       "0         487372  \n",
       "1        3456204  \n",
       "2       18000350  \n",
       "3        4334477  \n",
       "4          82376  \n",
       "..           ...  \n",
       "83       2457132  \n",
       "84       1087080  \n",
       "85        252472  \n",
       "86       3674143  \n",
       "87      12434421  \n",
       "\n",
       "[88 rows x 6 columns]"
      ]
     },
     "execution_count": 32,
     "metadata": {},
     "output_type": "execute_result"
    }
   ],
   "source": [
    "df_artists_sp"
   ]
  },
  {
   "cell_type": "markdown",
   "metadata": {},
   "source": [
    "### Export the dataset"
   ]
  },
  {
   "cell_type": "code",
   "execution_count": 33,
   "metadata": {
    "ExecuteTime": {
     "end_time": "2020-09-18T19:01:36.916609Z",
     "start_time": "2020-09-18T19:01:36.902645Z"
    }
   },
   "outputs": [],
   "source": [
    "# Export\n",
    "df_artists_sp.to_csv('exported_df/sp_artists_info.csv', index=False)"
   ]
  },
  {
   "cell_type": "markdown",
   "metadata": {},
   "source": [
    "## Playlists"
   ]
  },
  {
   "cell_type": "code",
   "execution_count": 34,
   "metadata": {
    "ExecuteTime": {
     "end_time": "2020-09-18T19:01:37.152130Z",
     "start_time": "2020-09-18T19:01:36.917571Z"
    }
   },
   "outputs": [],
   "source": [
    "# Search in the API wrapper\n",
    "spotify_tiktok = sp.search(q='tiktok', type='playlist', limit=50)"
   ]
  },
  {
   "cell_type": "code",
   "execution_count": 35,
   "metadata": {
    "ExecuteTime": {
     "end_time": "2020-09-18T19:01:37.163051Z",
     "start_time": "2020-09-18T19:01:37.155107Z"
    }
   },
   "outputs": [
    {
     "data": {
      "text/plain": [
       "50"
      ]
     },
     "execution_count": 35,
     "metadata": {},
     "output_type": "execute_result"
    }
   ],
   "source": [
    "# Check the number of playlists\n",
    "len(spotify_tiktok['playlists']['items'])"
   ]
  },
  {
   "cell_type": "markdown",
   "metadata": {},
   "source": [
    "## Get playlist ID"
   ]
  },
  {
   "cell_type": "code",
   "execution_count": 36,
   "metadata": {
    "ExecuteTime": {
     "end_time": "2020-09-18T19:01:37.177010Z",
     "start_time": "2020-09-18T19:01:37.165043Z"
    }
   },
   "outputs": [
    {
     "data": {
      "text/html": [
       "<div>\n",
       "<style scoped>\n",
       "    .dataframe tbody tr th:only-of-type {\n",
       "        vertical-align: middle;\n",
       "    }\n",
       "\n",
       "    .dataframe tbody tr th {\n",
       "        vertical-align: top;\n",
       "    }\n",
       "\n",
       "    .dataframe thead th {\n",
       "        text-align: right;\n",
       "    }\n",
       "</style>\n",
       "<table border=\"1\" class=\"dataframe\">\n",
       "  <thead>\n",
       "    <tr style=\"text-align: right;\">\n",
       "      <th></th>\n",
       "      <th>sp_playlist_id</th>\n",
       "    </tr>\n",
       "  </thead>\n",
       "  <tbody>\n",
       "    <tr>\n",
       "      <th>0</th>\n",
       "      <td>37i9dQZF1DX2L0iB23Enbq</td>\n",
       "    </tr>\n",
       "    <tr>\n",
       "      <th>1</th>\n",
       "      <td>65LdqYCLcsV0lJoxpeQ6fW</td>\n",
       "    </tr>\n",
       "    <tr>\n",
       "      <th>2</th>\n",
       "      <td>0JFatPoPq82gNcPa4esOzj</td>\n",
       "    </tr>\n",
       "    <tr>\n",
       "      <th>3</th>\n",
       "      <td>2NNzPH70CakBbbU8JHrZRG</td>\n",
       "    </tr>\n",
       "    <tr>\n",
       "      <th>4</th>\n",
       "      <td>4FLeoROn5GT7n2tZq5XB4V</td>\n",
       "    </tr>\n",
       "  </tbody>\n",
       "</table>\n",
       "</div>"
      ],
      "text/plain": [
       "           sp_playlist_id\n",
       "0  37i9dQZF1DX2L0iB23Enbq\n",
       "1  65LdqYCLcsV0lJoxpeQ6fW\n",
       "2  0JFatPoPq82gNcPa4esOzj\n",
       "3  2NNzPH70CakBbbU8JHrZRG\n",
       "4  4FLeoROn5GT7n2tZq5XB4V"
      ]
     },
     "execution_count": 36,
     "metadata": {},
     "output_type": "execute_result"
    }
   ],
   "source": [
    "# Get the playlists IDs and convert to a dataframe\n",
    "sp_playlists = pd.DataFrame([playlist['id'] for playlist in spotify_tiktok['playlists']['items']], \n",
    "                            columns=['sp_playlist_id'])\n",
    "sp_playlists.head()"
   ]
  },
  {
   "cell_type": "markdown",
   "metadata": {},
   "source": [
    "## Get information about the playlists"
   ]
  },
  {
   "cell_type": "code",
   "execution_count": 37,
   "metadata": {
    "ExecuteTime": {
     "end_time": "2020-09-18T19:01:51.540392Z",
     "start_time": "2020-09-18T19:01:37.179006Z"
    },
    "scrolled": true
   },
   "outputs": [
    {
     "data": {
      "application/vnd.jupyter.widget-view+json": {
       "model_id": "a9ac2ec74dc54610b261f4f4b44bd632",
       "version_major": 2,
       "version_minor": 0
      },
      "text/plain": [
       "HBox(children=(FloatProgress(value=0.0, max=50.0), HTML(value='')))"
      ]
     },
     "metadata": {},
     "output_type": "display_data"
    },
    {
     "name": "stdout",
     "output_type": "stream",
     "text": [
      "\n"
     ]
    },
    {
     "data": {
      "text/html": [
       "<div>\n",
       "<style scoped>\n",
       "    .dataframe tbody tr th:only-of-type {\n",
       "        vertical-align: middle;\n",
       "    }\n",
       "\n",
       "    .dataframe tbody tr th {\n",
       "        vertical-align: top;\n",
       "    }\n",
       "\n",
       "    .dataframe thead th {\n",
       "        text-align: right;\n",
       "    }\n",
       "</style>\n",
       "<table border=\"1\" class=\"dataframe\">\n",
       "  <thead>\n",
       "    <tr style=\"text-align: right;\">\n",
       "      <th></th>\n",
       "      <th>sp_playlist_id</th>\n",
       "      <th>sp_playlist_info</th>\n",
       "    </tr>\n",
       "  </thead>\n",
       "  <tbody>\n",
       "    <tr>\n",
       "      <th>0</th>\n",
       "      <td>37i9dQZF1DX2L0iB23Enbq</td>\n",
       "      <td>{'collaborative': False, 'description': 'Viral...</td>\n",
       "    </tr>\n",
       "    <tr>\n",
       "      <th>1</th>\n",
       "      <td>65LdqYCLcsV0lJoxpeQ6fW</td>\n",
       "      <td>{'collaborative': False, 'description': 'Best ...</td>\n",
       "    </tr>\n",
       "    <tr>\n",
       "      <th>2</th>\n",
       "      <td>0JFatPoPq82gNcPa4esOzj</td>\n",
       "      <td>{'collaborative': False, 'description': 'bigge...</td>\n",
       "    </tr>\n",
       "    <tr>\n",
       "      <th>3</th>\n",
       "      <td>2NNzPH70CakBbbU8JHrZRG</td>\n",
       "      <td>{'collaborative': False, 'description': 'TIK T...</td>\n",
       "    </tr>\n",
       "    <tr>\n",
       "      <th>4</th>\n",
       "      <td>4FLeoROn5GT7n2tZq5XB4V</td>\n",
       "      <td>{'collaborative': False, 'description': 'The m...</td>\n",
       "    </tr>\n",
       "  </tbody>\n",
       "</table>\n",
       "</div>"
      ],
      "text/plain": [
       "           sp_playlist_id                                   sp_playlist_info\n",
       "0  37i9dQZF1DX2L0iB23Enbq  {'collaborative': False, 'description': 'Viral...\n",
       "1  65LdqYCLcsV0lJoxpeQ6fW  {'collaborative': False, 'description': 'Best ...\n",
       "2  0JFatPoPq82gNcPa4esOzj  {'collaborative': False, 'description': 'bigge...\n",
       "3  2NNzPH70CakBbbU8JHrZRG  {'collaborative': False, 'description': 'TIK T...\n",
       "4  4FLeoROn5GT7n2tZq5XB4V  {'collaborative': False, 'description': 'The m..."
      ]
     },
     "execution_count": 37,
     "metadata": {},
     "output_type": "execute_result"
    }
   ],
   "source": [
    "# Get additional information about the playlists\n",
    "sp_playlists['sp_playlist_info'] = [sp.playlist(id) for id in tqdm(sp_playlists.sp_playlist_id)]\n",
    "\n",
    "# Check the result\n",
    "sp_playlists.head()"
   ]
  },
  {
   "cell_type": "markdown",
   "metadata": {},
   "source": [
    "### Export dataset"
   ]
  },
  {
   "cell_type": "code",
   "execution_count": 38,
   "metadata": {
    "ExecuteTime": {
     "end_time": "2020-09-18T19:01:51.997203Z",
     "start_time": "2020-09-18T19:01:51.542388Z"
    }
   },
   "outputs": [],
   "source": [
    "sp_playlists.to_csv('exported_df/sp_playlists_info.csv', index=False)"
   ]
  },
  {
   "cell_type": "markdown",
   "metadata": {},
   "source": [
    "# Chartmetric"
   ]
  },
  {
   "cell_type": "markdown",
   "metadata": {},
   "source": [
    "## Connecting to the API"
   ]
  },
  {
   "cell_type": "code",
   "execution_count": null,
   "metadata": {
    "ExecuteTime": {
     "end_time": "2020-09-17T23:09:55.829795Z",
     "start_time": "2020-09-17T23:09:55.822814Z"
    }
   },
   "outputs": [],
   "source": [
    "load_dotenv(find_dotenv())"
   ]
  },
  {
   "cell_type": "code",
   "execution_count": null,
   "metadata": {
    "ExecuteTime": {
     "end_time": "2020-09-17T23:09:57.390586Z",
     "start_time": "2020-09-17T23:09:57.386597Z"
    }
   },
   "outputs": [],
   "source": [
    "def get_token_cmc():\n",
    "    url = \"https://api.chartmetric.com/api/token\"\n",
    "    payload = r'{\"refreshtoken\":\"%s\"}' % os.getenv('chartmetric_rftoken')\n",
    "\n",
    "    headers = {\n",
    "      'Content-Type': 'application/json',\n",
    "      'Cookie': 'connect.sid=s%3A96446210-f75b-11ea-bb65-c97242076514.wtHGb%2BZnACRtIERUXXeoBVsOmhNDPPnBzgPW9UL%2Bhpc'\n",
    "    }\n",
    "\n",
    "    response = requests.request(\"POST\", url, headers=headers, data=payload)\n",
    "    print(response)\n",
    "    \n",
    "    token = re.findall(\"[A-Za-z0-9._-]+\", response.text)[1]\n",
    "    \n",
    "    return token"
   ]
  },
  {
   "cell_type": "code",
   "execution_count": null,
   "metadata": {
    "ExecuteTime": {
     "end_time": "2020-09-17T23:09:59.912685Z",
     "start_time": "2020-09-17T23:09:58.905445Z"
    }
   },
   "outputs": [],
   "source": [
    "token = get_token_cmc()"
   ]
  },
  {
   "cell_type": "markdown",
   "metadata": {},
   "source": [
    "## Songs"
   ]
  },
  {
   "cell_type": "code",
   "execution_count": null,
   "metadata": {
    "ExecuteTime": {
     "end_time": "2020-09-17T16:45:20.178742Z",
     "start_time": "2020-09-17T16:45:20.165776Z"
    }
   },
   "outputs": [],
   "source": [
    "# Create a dataframe with songs for the Chartmetric dataset\n",
    "df_cmc_tracks = df_sp.iloc[:, 0:6].drop(columns='spotify_search')\n",
    "df_cmc_tracks"
   ]
  },
  {
   "cell_type": "markdown",
   "metadata": {},
   "source": [
    "### Get Chartmetric track ID"
   ]
  },
  {
   "cell_type": "code",
   "execution_count": null,
   "metadata": {
    "ExecuteTime": {
     "end_time": "2020-09-17T16:45:20.187720Z",
     "start_time": "2020-09-17T16:45:20.179739Z"
    }
   },
   "outputs": [],
   "source": [
    "def get_cmc_id_spotify(query: str, limit=10, offset=0):\n",
    "    \n",
    "    '''\n",
    "    Searches for Chartmetric track ID using Spotify ID\n",
    "    \n",
    "    Args: spotify ID\n",
    "    ------\n",
    "    \n",
    "    Returns: json\n",
    "    '''\n",
    "    \n",
    "    search = f'https://open.spotify.com/track/{query}'\n",
    "    url = f'https://api.chartmetric.com/api/search?q={search}&limit={limit}&offset={offset}&type=tracks'\n",
    "    \n",
    "    headers = {\n",
    "    'Authorization': 'Bearer ' + token\n",
    "    }\n",
    "    \n",
    "    response = requests.get(url, headers=headers)\n",
    "    \n",
    "    return response.json()"
   ]
  },
  {
   "cell_type": "code",
   "execution_count": null,
   "metadata": {
    "ExecuteTime": {
     "end_time": "2020-09-17T16:46:45.972693Z",
     "start_time": "2020-09-17T16:45:20.189713Z"
    }
   },
   "outputs": [],
   "source": [
    "cmc_tracks_id = [get_cmc_id_spotify(id) if id != 'not-found' else 'not-found' for id in tqdm(df_cmc_tracks.sp_id)]"
   ]
  },
  {
   "cell_type": "code",
   "execution_count": null,
   "metadata": {
    "ExecuteTime": {
     "end_time": "2020-09-17T16:46:45.978648Z",
     "start_time": "2020-09-17T16:46:45.974655Z"
    }
   },
   "outputs": [],
   "source": [
    "len(cmc_tracks_id)"
   ]
  },
  {
   "cell_type": "code",
   "execution_count": null,
   "metadata": {
    "ExecuteTime": {
     "end_time": "2020-09-17T16:46:46.004601Z",
     "start_time": "2020-09-17T16:46:45.979641Z"
    }
   },
   "outputs": [],
   "source": [
    "df_cmc_tracks['cmc_song_seach'] = cmc_tracks_id\n",
    "df_cmc_tracks"
   ]
  },
  {
   "cell_type": "code",
   "execution_count": null,
   "metadata": {
    "ExecuteTime": {
     "end_time": "2020-09-17T16:48:54.801782Z",
     "start_time": "2020-09-17T16:48:54.786822Z"
    }
   },
   "outputs": [],
   "source": [
    "df_cmc_tracks['cmc_id'] = [cmc_search['obj']['tracks'][0]['id'] if df_cmc_tracks.iloc[index, 4] != 'not-found' \n",
    "                           else 'not-found' for index, cmc_search in enumerate(df_cmc_tracks.cmc_song_seach)]\n",
    "\n",
    "df_cmc_tracks.head()"
   ]
  },
  {
   "cell_type": "markdown",
   "metadata": {},
   "source": [
    "### Get track metadata"
   ]
  },
  {
   "cell_type": "code",
   "execution_count": null,
   "metadata": {
    "ExecuteTime": {
     "end_time": "2020-09-17T16:46:46.012586Z",
     "start_time": "2020-09-17T16:46:46.006570Z"
    }
   },
   "outputs": [],
   "source": [
    "def get_cmc_metadata(cmc_id: str):\n",
    "    \n",
    "    \n",
    "    \n",
    "    url = f'https://api.chartmetric.com/api/track/{cmc_id}'\n",
    "    \n",
    "    headers = {\n",
    "    'Authorization': 'Bearer ' + token\n",
    "    }\n",
    "    \n",
    "    response = requests.get(url, headers=headers)\n",
    "    \n",
    "    return response.json()"
   ]
  },
  {
   "cell_type": "code",
   "execution_count": null,
   "metadata": {
    "ExecuteTime": {
     "end_time": "2020-09-17T16:50:23.423163Z",
     "start_time": "2020-09-17T16:48:59.794962Z"
    },
    "scrolled": false
   },
   "outputs": [],
   "source": [
    "cmc_track_metadata = [get_cmc_metadata(id) if id != 'not-found' else 'not-found' for id in tqdm(df_cmc_tracks.cmc_id)]"
   ]
  },
  {
   "cell_type": "code",
   "execution_count": null,
   "metadata": {
    "ExecuteTime": {
     "end_time": "2020-09-17T16:50:27.155344Z",
     "start_time": "2020-09-17T16:50:27.151354Z"
    }
   },
   "outputs": [],
   "source": [
    "df_cmc_tracks['cmc_track_metadata'] = cmc_track_metadata"
   ]
  },
  {
   "cell_type": "code",
   "execution_count": null,
   "metadata": {
    "ExecuteTime": {
     "end_time": "2020-09-17T16:52:04.631395Z",
     "start_time": "2020-09-17T16:52:04.610452Z"
    },
    "scrolled": true
   },
   "outputs": [],
   "source": [
    "df_cmc_tracks.head()"
   ]
  },
  {
   "cell_type": "markdown",
   "metadata": {},
   "source": [
    "### Get track stats - TikTok"
   ]
  },
  {
   "cell_type": "code",
   "execution_count": null,
   "metadata": {
    "ExecuteTime": {
     "end_time": "2020-09-17T16:52:06.606569Z",
     "start_time": "2020-09-17T16:52:06.602580Z"
    }
   },
   "outputs": [],
   "source": [
    "def get_cmc_track_stats_tiktok(cmc_id, since=\"2020-01-01\"):\n",
    "    \n",
    "    \n",
    "    \n",
    "    url = f'https://api.chartmetric.com/api/track/{cmc_id}/tiktok/stats?since={since}'\n",
    "    \n",
    "    headers = {\n",
    "    'Authorization': 'Bearer ' + token\n",
    "    }\n",
    "    \n",
    "    response = requests.get(url, headers=headers)\n",
    "    \n",
    "    return response.json()"
   ]
  },
  {
   "cell_type": "code",
   "execution_count": null,
   "metadata": {
    "ExecuteTime": {
     "end_time": "2020-09-17T16:50:27.169320Z",
     "start_time": "2020-09-17T16:50:27.161Z"
    }
   },
   "outputs": [],
   "source": [
    "cmc_track_stats_tiktok = [get_cmc_track_stats_tiktok(id) if id != 'not-found' else 'not-found' \n",
    "                          for id in tqdm(df_cmc_tracks.cmc_id)]"
   ]
  },
  {
   "cell_type": "code",
   "execution_count": null,
   "metadata": {
    "ExecuteTime": {
     "end_time": "2020-09-17T16:50:27.170303Z",
     "start_time": "2020-09-17T16:50:27.164Z"
    }
   },
   "outputs": [],
   "source": [
    "df_cmc_tracks['cmc_track_stats_tiktok'] = cmc_track_stats_tiktok\n",
    "df_cmc_tracks.head()"
   ]
  },
  {
   "cell_type": "markdown",
   "metadata": {},
   "source": [
    "### Export dataset"
   ]
  },
  {
   "cell_type": "code",
   "execution_count": null,
   "metadata": {
    "ExecuteTime": {
     "end_time": "2020-09-17T16:50:27.299957Z",
     "start_time": "2020-09-17T16:50:27.277018Z"
    }
   },
   "outputs": [],
   "source": [
    "df_cmc_tracks.to_csv('cmc_tracks_info.csv', index=False)"
   ]
  },
  {
   "cell_type": "markdown",
   "metadata": {},
   "source": [
    "## Artists"
   ]
  },
  {
   "cell_type": "code",
   "execution_count": null,
   "metadata": {
    "ExecuteTime": {
     "end_time": "2020-09-17T18:43:35.069371Z",
     "start_time": "2020-09-17T18:43:35.057436Z"
    }
   },
   "outputs": [],
   "source": [
    "df_cmc_artists = df_artists.drop(columns=['spotify_artist'])\n",
    "df_cmc_artists"
   ]
  },
  {
   "cell_type": "markdown",
   "metadata": {},
   "source": [
    "### Get Artists IDs"
   ]
  },
  {
   "cell_type": "code",
   "execution_count": null,
   "metadata": {
    "ExecuteTime": {
     "end_time": "2020-09-17T18:43:36.773586Z",
     "start_time": "2020-09-17T18:43:36.769597Z"
    }
   },
   "outputs": [],
   "source": [
    "def cmc_search_artist_spotify(query: str, limit=10, offset=0):\n",
    "    \n",
    "    '''\n",
    "    Searches for Chartmetric artist ID using Spotify ID\n",
    "    \n",
    "    Args: spotify ID\n",
    "    ------\n",
    "    \n",
    "    Returns: json\n",
    "    '''\n",
    "    \n",
    "    search = f'https://open.spotify.com/artist/{query}'\n",
    "    url = f'https://api.chartmetric.com/api/search?q={search}&limit={limit}&offset={offset}&type=artists'\n",
    "    \n",
    "    headers = {\n",
    "    'Authorization': 'Bearer ' + token\n",
    "    }\n",
    "    \n",
    "    response = requests.get(url, headers=headers)\n",
    "    \n",
    "    return response.json()"
   ]
  },
  {
   "cell_type": "code",
   "execution_count": null,
   "metadata": {
    "ExecuteTime": {
     "end_time": "2020-09-17T23:11:40.934748Z",
     "start_time": "2020-09-17T23:10:02.616088Z"
    }
   },
   "outputs": [],
   "source": [
    "cmc_artist_id = [cmc_search_artist_spotify(id) for id in tqdm(df_cmc_artists['sp_id'])]"
   ]
  },
  {
   "cell_type": "code",
   "execution_count": null,
   "metadata": {
    "ExecuteTime": {
     "end_time": "2020-09-17T23:11:45.232884Z",
     "start_time": "2020-09-17T23:11:45.228860Z"
    }
   },
   "outputs": [],
   "source": [
    "df_cmc_artists['cmc_search'] = cmc_artist_id"
   ]
  },
  {
   "cell_type": "code",
   "execution_count": null,
   "metadata": {
    "ExecuteTime": {
     "end_time": "2020-09-17T23:11:46.804246Z",
     "start_time": "2020-09-17T23:11:46.792137Z"
    }
   },
   "outputs": [],
   "source": [
    "df_cmc_artists.head()"
   ]
  },
  {
   "cell_type": "code",
   "execution_count": null,
   "metadata": {
    "ExecuteTime": {
     "end_time": "2020-09-17T23:11:50.817225Z",
     "start_time": "2020-09-17T23:11:50.811206Z"
    }
   },
   "outputs": [],
   "source": [
    "df_cmc_artists.cmc_search[0]['obj']['artists'][0]"
   ]
  },
  {
   "cell_type": "code",
   "execution_count": null,
   "metadata": {
    "ExecuteTime": {
     "end_time": "2020-09-17T23:11:55.999102Z",
     "start_time": "2020-09-17T23:11:55.979155Z"
    }
   },
   "outputs": [],
   "source": [
    "df_cmc_artists['cmc_id'] = [search['obj']['artists'][0]['id'] for search in df_cmc_artists.cmc_search]\n",
    "df_cmc_artists"
   ]
  },
  {
   "cell_type": "markdown",
   "metadata": {},
   "source": [
    "### Get artist metadata"
   ]
  },
  {
   "cell_type": "code",
   "execution_count": null,
   "metadata": {
    "ExecuteTime": {
     "end_time": "2020-09-17T23:12:01.888222Z",
     "start_time": "2020-09-17T23:12:01.885183Z"
    }
   },
   "outputs": [],
   "source": [
    "def get_cmc_artist_metadata(cmc_id: str):\n",
    "    \n",
    "    \n",
    "    \n",
    "    url = f'https://api.chartmetric.com/api/artist/{cmc_id}'\n",
    "    \n",
    "    headers = {\n",
    "    'Authorization': 'Bearer ' + token\n",
    "    }\n",
    "    \n",
    "    response = requests.get(url, headers=headers)\n",
    "    \n",
    "    return response.json()"
   ]
  },
  {
   "cell_type": "code",
   "execution_count": null,
   "metadata": {
    "ExecuteTime": {
     "end_time": "2020-09-17T23:13:55.284029Z",
     "start_time": "2020-09-17T23:12:03.478254Z"
    }
   },
   "outputs": [],
   "source": [
    "cmc_art_metadata = [get_cmc_artist_metadata(id) for id in tqdm(df_cmc_artists.cmc_id)]"
   ]
  },
  {
   "cell_type": "code",
   "execution_count": null,
   "metadata": {
    "ExecuteTime": {
     "end_time": "2020-09-17T23:14:05.431634Z",
     "start_time": "2020-09-17T23:14:05.395730Z"
    }
   },
   "outputs": [],
   "source": [
    "df_cmc_artists['cmc_art_metadata'] = cmc_art_metadata\n",
    "df_cmc_artists"
   ]
  },
  {
   "cell_type": "markdown",
   "metadata": {},
   "source": [
    "### Get spotify Monthly Listeners by City"
   ]
  },
  {
   "cell_type": "code",
   "execution_count": null,
   "metadata": {
    "ExecuteTime": {
     "end_time": "2020-09-17T23:14:07.853625Z",
     "start_time": "2020-09-17T23:14:07.850623Z"
    }
   },
   "outputs": [],
   "source": [
    "def get_cmc_artist_sp_city(cmc_id: str):\n",
    "    \n",
    "    \n",
    "    \n",
    "    url = f'https://api.chartmetric.com/api/artist/{cmc_id}/where-people-listen'\n",
    "    \n",
    "    headers = {\n",
    "    'Authorization': 'Bearer ' + token\n",
    "    }\n",
    "    \n",
    "    response = requests.get(url, headers=headers)\n",
    "    \n",
    "    return response.json()"
   ]
  },
  {
   "cell_type": "code",
   "execution_count": null,
   "metadata": {
    "ExecuteTime": {
     "end_time": "2020-09-17T23:15:02.149167Z",
     "start_time": "2020-09-17T23:14:09.941613Z"
    }
   },
   "outputs": [],
   "source": [
    "cmc_art_sp_city = [get_cmc_artist_sp_city(id) for id in tqdm(df_cmc_artists.cmc_id)]"
   ]
  },
  {
   "cell_type": "code",
   "execution_count": null,
   "metadata": {
    "ExecuteTime": {
     "end_time": "2020-09-17T16:51:10.636393Z",
     "start_time": "2020-09-17T16:50:27.206Z"
    }
   },
   "outputs": [],
   "source": [
    "df_cmc_artists['cmc_art_sp_city'] = cmc_art_sp_city\n",
    "df_cmc_artists.head()"
   ]
  },
  {
   "cell_type": "markdown",
   "metadata": {},
   "source": [
    "## Tiktok Audience Data\n"
   ]
  },
  {
   "cell_type": "code",
   "execution_count": null,
   "metadata": {
    "ExecuteTime": {
     "end_time": "2020-09-17T16:51:10.637390Z",
     "start_time": "2020-09-17T16:50:27.209Z"
    }
   },
   "outputs": [],
   "source": [
    "def get_cmc_artist_tiktok_audience_data(cmc_id: str):\n",
    "    \n",
    "    \n",
    "    \n",
    "    url = f'https://api.chartmetric.com/api/artist/{cmc_id}/tiktok-audience-stats'\n",
    "    \n",
    "    headers = {\n",
    "    'Authorization': 'Bearer ' + token\n",
    "    }\n",
    "    \n",
    "    response = requests.get(url, headers=headers)\n",
    "    \n",
    "    return response.json()"
   ]
  },
  {
   "cell_type": "code",
   "execution_count": null,
   "metadata": {
    "ExecuteTime": {
     "end_time": "2020-09-17T16:51:10.638388Z",
     "start_time": "2020-09-17T16:50:27.212Z"
    }
   },
   "outputs": [],
   "source": [
    "cmc_art_tiktok_audience = [get_cmc_artist_tiktok_audience_data(id) for id in tqdm(df_cmc_artists.cmc_id)]"
   ]
  },
  {
   "cell_type": "code",
   "execution_count": null,
   "metadata": {
    "ExecuteTime": {
     "end_time": "2020-09-17T16:51:10.639404Z",
     "start_time": "2020-09-17T16:50:27.214Z"
    },
    "scrolled": false
   },
   "outputs": [],
   "source": [
    "df_cmc_artists['cmc_art_tiktok_audience'] = cmc_art_tiktok_audience\n",
    "df_cmc_artists.head()"
   ]
  },
  {
   "cell_type": "markdown",
   "metadata": {},
   "source": [
    "### Export dataset"
   ]
  },
  {
   "cell_type": "code",
   "execution_count": null,
   "metadata": {
    "ExecuteTime": {
     "end_time": "2020-09-17T16:51:10.640381Z",
     "start_time": "2020-09-17T16:50:27.216Z"
    }
   },
   "outputs": [],
   "source": [
    "df_cmc_artists.to_csv('cmc_artists.csv', index=False)"
   ]
  },
  {
   "cell_type": "code",
   "execution_count": null,
   "metadata": {
    "ExecuteTime": {
     "end_time": "2020-09-17T16:51:10.641379Z",
     "start_time": "2020-09-17T16:50:27.219Z"
    }
   },
   "outputs": [],
   "source": [
    "df_teste2 = pd.read_csv('cmc_artists.csv')\n",
    "df_teste2"
   ]
  },
  {
   "cell_type": "markdown",
   "metadata": {},
   "source": [
    "# Charts"
   ]
  },
  {
   "cell_type": "code",
   "execution_count": null,
   "metadata": {
    "ExecuteTime": {
     "end_time": "2020-09-17T16:51:10.642376Z",
     "start_time": "2020-09-17T16:50:27.221Z"
    }
   },
   "outputs": [],
   "source": [
    "def get_cmc_tiktok_charts(date):\n",
    "    \n",
    "    \n",
    "    \n",
    "    url = f'https://api.chartmetric.com/api/charts/tiktok/tracks?date={date}&interval=weekly'\n",
    "    \n",
    "    headers = {\n",
    "    'Authorization': 'Bearer ' + token\n",
    "    }\n",
    "    \n",
    "    response = requests.get(url, headers=headers)\n",
    "    \n",
    "    return response.json()"
   ]
  },
  {
   "cell_type": "code",
   "execution_count": null,
   "metadata": {
    "ExecuteTime": {
     "end_time": "2020-09-17T16:51:10.643388Z",
     "start_time": "2020-09-17T16:50:27.223Z"
    }
   },
   "outputs": [],
   "source": [
    "cmc_tiktok_chart = get_cmc_tiktok_charts('2020-09-08')"
   ]
  },
  {
   "cell_type": "code",
   "execution_count": null,
   "metadata": {
    "ExecuteTime": {
     "end_time": "2020-09-17T16:51:10.643388Z",
     "start_time": "2020-09-17T16:50:27.225Z"
    }
   },
   "outputs": [],
   "source": [
    "df_cmc_chart = pd.DataFrame(cmc_tiktok_chart).reset_index()\n",
    "df_cmc_chart.to_csv('cmc_chart.csv', index=False)"
   ]
  }
 ],
 "metadata": {
  "hide_input": false,
  "kernelspec": {
   "display_name": "Python 3",
   "language": "python",
   "name": "python3"
  },
  "language_info": {
   "codemirror_mode": {
    "name": "ipython",
    "version": 3
   },
   "file_extension": ".py",
   "mimetype": "text/x-python",
   "name": "python",
   "nbconvert_exporter": "python",
   "pygments_lexer": "ipython3",
   "version": "3.8.3"
  },
  "toc": {
   "base_numbering": 1,
   "nav_menu": {},
   "number_sections": true,
   "sideBar": true,
   "skip_h1_title": false,
   "title_cell": "Table of Contents",
   "title_sidebar": "Contents",
   "toc_cell": false,
   "toc_position": {
    "height": "calc(100% - 180px)",
    "left": "10px",
    "top": "150px",
    "width": "384px"
   },
   "toc_section_display": true,
   "toc_window_display": true
  },
  "varInspector": {
   "cols": {
    "lenName": 16,
    "lenType": 16,
    "lenVar": 40
   },
   "kernels_config": {
    "python": {
     "delete_cmd_postfix": "",
     "delete_cmd_prefix": "del ",
     "library": "var_list.py",
     "varRefreshCmd": "print(var_dic_list())"
    },
    "r": {
     "delete_cmd_postfix": ") ",
     "delete_cmd_prefix": "rm(",
     "library": "var_list.r",
     "varRefreshCmd": "cat(var_dic_list()) "
    }
   },
   "position": {
    "height": "390px",
    "left": "582px",
    "right": "20px",
    "top": "231px",
    "width": "800px"
   },
   "types_to_exclude": [
    "module",
    "function",
    "builtin_function_or_method",
    "instance",
    "_Feature"
   ],
   "window_display": false
  }
 },
 "nbformat": 4,
 "nbformat_minor": 4
}
